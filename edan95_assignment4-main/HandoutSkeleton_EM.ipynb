{
 "cells": [
  {
   "cell_type": "code",
   "execution_count": 216,
   "metadata": {},
   "outputs": [],
   "source": [
    "from sklearn.cluster import KMeans\n",
    "from collections import OrderedDict\n",
    "from sklearn import datasets, metrics\n",
    "import numpy as np\n",
    "from sklearn.model_selection import train_test_split\n",
    "import math\n",
    "import matplotlib.pyplot as plt\n",
    "import Handout_MNIST.MNIST as mn\n"
   ]
  },
  {
   "cell_type": "code",
   "execution_count": 242,
   "metadata": {},
   "outputs": [],
   "source": [
    "# in this cell you will have to add a suitable intialisation for the EM-algorithm to find good \"clusters\"\n",
    "# note that \"cluster\" is a bit misleading, as only the degree of belonging to a distribution is evaluated \n",
    "# for each sample, and not an absolute assignment to a cluster is made\n",
    "\n",
    "class EMClusters:\n",
    "\n",
    "    def __init__(self):\n",
    "        self.__numOfClasses = 0\n",
    "        self.__numOfAttributes = 0\n",
    "\n",
    "    # Initialises for EM to work\n",
    "    # should be called with a suitable smoothing factor blur, but the default does at least something.\n",
    "    def initialise(self, data, num_classes, num_attributes, blur=0.1):\n",
    "        self.__blur = blur\n",
    "        self.__data = data\n",
    "        self.__numOfAttributes = num_attributes\n",
    "\n",
    "        self.__numOfClasses = num_classes\n",
    "\n",
    "        #self.__clusterMeansAndCovs = np.ones((self.__numOfClasses, self.__numOfAttributes, 2), dtype=float)\n",
    "        #self.__priors = np.ones(self.__numOfClasses)\n",
    "        \n",
    "        #self.__priors =  [0.5, 0.6, 0.7, 0.8, 0.9, 0.11, 0.12, 0.13, 0.14, 0.15]\n",
    "        self.__priors =  np.ones(10) / 10\n",
    "        self.__clusterMeansAndCovs = np.ones((self.__numOfClasses, self.__numOfAttributes, 2), dtype=float)\n",
    "\n",
    "        data_temp = data.copy()\n",
    "        np.random.shuffle(data_temp)\n",
    "        ind = int(len(self.__data) / self.__numOfClasses)\n",
    "        for i in range(10):\n",
    "            data_temp_slice = data_temp[i*ind:(i+1)*ind]\n",
    "            data_temp_slice = np.transpose(data_temp_slice)\n",
    "            for k, pixel in enumerate(data_temp_slice):\n",
    "                #print(k)\n",
    "                self.__clusterMeansAndCovs[i][k][0] = np.mean(pixel)\n",
    "                self.__clusterMeansAndCovs[i][k][1] = np.var(pixel)\n",
    "            #print(\"datatempslice\", data_temp_slice)\n",
    "            #self.__clusterMeansAndCovs[i][:][0] = np.mean(data_temp_slice, axis=0)\n",
    "            #self.__clusterMeansAndCovs[i][:][1] = np.var(data_temp_slice, axis=0)+blur\n",
    "           \n",
    "        # start of your code\n",
    "        ###\n",
    "        #\n",
    "        # Here, you should now fill in something more sensible, as the code above is only a placeholder solution...\n",
    "        # You need to find initial clusters and set start values for the priors, means and (co)variances that would\n",
    "        # end up in the following arrays:\n",
    "        #\n",
    "        # self.__priors              - is of dimension K x 1 and holds K values, K the number of clusters / classes\n",
    "        # self.__clusterMeansAndCovs - is of dimensions K x I x 2 and holds for each combination of class k\n",
    "        #                              and attribute j the mean in [k, j, 0] and the covariance (only for jj,\n",
    "        #                              as we assume conditional independence given the class) in [k, j, 1]\n",
    "        #\n",
    "        ###\n",
    "        # end of your code\n",
    "\n",
    "        \n",
    "    # the actual EM algorithm, should be called with a suitable eps for a stop criterion\n",
    "    # feel free to change (optimize) the implementation, but you do not have to do that\n",
    "    def fit(self, eps=1.0):\n",
    "        epsilon = eps\n",
    "\n",
    "        print(self.__numOfAttributes)\n",
    "\n",
    "        # print(self.__clusterMeansAndCovs[:,1,:])\n",
    "\n",
    "        resp = np.zeros((len(self.__data), self.__numOfClasses))\n",
    "        r_k = np.zeros(self.__numOfClasses)\n",
    "        notDone = True\n",
    "        while notDone:\n",
    "            # print(self.__clusterMeansAndCovs)\n",
    "            # E-step\n",
    "            for i in range(len(self.__data)):\n",
    "                probs = self.__priors.copy()\n",
    "                for k in range(self.__numOfClasses):\n",
    "\n",
    "                    for attr in range(self.__numOfAttributes):\n",
    "                        probs[k] *= 1.0 / np.sqrt(\n",
    "                            2 * math.pi * (self.__clusterMeansAndCovs[k, attr, 1] + self.__blur)) * math.exp(\n",
    "                            -1.0 * math.pow((self.__clusterMeansAndCovs[k, attr, 0] - self.__data[i, attr]), 2) / (\n",
    "                                        self.__clusterMeansAndCovs[k, attr, 1] + self.__blur))\n",
    "\n",
    "                resp[i, :] = probs / sum(probs)\n",
    "                # print(resp[i,:])\n",
    "            \n",
    "            # M-step\n",
    "            newClusterMeansAndCovs = np.zeros((self.__numOfClasses, self.__numOfAttributes, 2))\n",
    "            for k in range(self.__numOfClasses):\n",
    "                r_k[k] = sum(resp[:, k])\n",
    "                self.__priors[k] = 1 / len(self.__data) * r_k[k]\n",
    "\n",
    "                for j in range(self.__numOfAttributes):\n",
    "                    means = sum(resp[:, k] * self.__data[:, j]) / r_k[k]\n",
    "\n",
    "                    newClusterMeansAndCovs[k, j, 0] = means\n",
    "                    newClusterMeansAndCovs[k, j, 1] = sum(resp[:, k] * self.__data[:, j] * self.__data[:, j]) \\\n",
    "                                                      / r_k[k] - newClusterMeansAndCovs[k, j, 0] ** 2\n",
    "\n",
    "            #print(newClusterMeansAndCovs[:, :, 1])\n",
    "\n",
    "            err = np.linalg.norm(self.__clusterMeansAndCovs[:, :, 0] - newClusterMeansAndCovs[:, :, 0])\n",
    "\n",
    "            self.__clusterMeansAndCovs = newClusterMeansAndCovs.copy()\n",
    "            #print(\"err = \" + str(err))\n",
    "            if err <= epsilon:\n",
    "                notDone = False\n",
    "                \n",
    "                \n",
    "        # produce \"clusters\", i.e, assign the samples to \"their\" gaussian\n",
    "        clustered = 10 * np.ones(len(self.__data), dtype=int)\n",
    "        for i in range(len(self.__data)):\n",
    "            probs = self.__priors.copy()\n",
    "            for k in range(self.__numOfClasses):\n",
    "\n",
    "                for attr in range(self.__numOfAttributes):\n",
    "                    probs[k] *= 1.0 / np.sqrt(2 * math.pi * (self.__clusterMeansAndCovs[k, attr, 1] + self.__blur)) \\\n",
    "                                * math.exp(\n",
    "                        -1.0 * math.pow((self.__clusterMeansAndCovs[k, attr, 0] - self.__data[i, attr]), 2) \\\n",
    "                        / (self.__clusterMeansAndCovs[k, attr, 1] + self.__blur))\n",
    "\n",
    "            sumProb = np.sum(probs)\n",
    "            if (sumProb > 0.0):\n",
    "                probs = probs / sumProb\n",
    "                clustered[i] = np.argmax(probs)\n",
    "\n",
    "        return clustered, self.__clusterMeansAndCovs\n",
    "\n",
    "    # prediction uses the found gaussians to compute the likelihoods in a GNBC\n",
    "    def predict(self, samples):\n",
    "        predicted = [None for i in range(len(samples))]\n",
    "        prob = [[self.__priors[cls] for cls in range(self.__numOfClasses)] for i in range(len(samples))]\n",
    "        # print(prob)\n",
    "        for i in range(len(samples)):\n",
    "            for cls in range(self.__numOfClasses):\n",
    "                for attr in range(self.__numOfAttributes):\n",
    "                    (mean, var) = (\n",
    "                    self.__clusterMeansAndCovs[cls, attr, 0], self.__clusterMeansAndCovs[cls, attr, 1] + self.__blur)\n",
    "                    # print( mean, var)\n",
    "                    prob[i][cls] *= 1.0 / np.sqrt(2 * math.pi * var) * math.exp(\n",
    "                        -1.0 * math.pow((mean - samples[i, attr]), 2) / var)\n",
    "                # print(i, cls, prob[i][cls])\n",
    "\n",
    "            sumProb = np.sum(prob[i])\n",
    "            if (sumProb > 0.0):\n",
    "                prob[i] = prob[i] / sumProb\n",
    "                predicted[i] = np.argmax(prob[i])\n",
    "            else:\n",
    "                predicted[i] = 10\n",
    "\n",
    "            # print(prob[i])\n",
    "\n",
    "        return predicted"
   ]
  },
  {
   "cell_type": "code",
   "execution_count": 218,
   "metadata": {},
   "outputs": [],
   "source": [
    "# use this to rearrange the outcome of a clustering to match the order of the classes in the training data\n",
    "# note that this is only something to make it easier for you to inspect the results, but probably not a method\n",
    "# you want to integrate in a final system\n",
    "\n",
    "def correctClusters(confM, classes) :\n",
    "    clusterMapping = -1 * np.ones_like(classes)\n",
    "    for k in classes:\n",
    "        temp = list(confM[:, k])\n",
    "        #print(temp)\n",
    "        notDone = True\n",
    "        while notDone:\n",
    "            amax = np.argmax(temp)\n",
    "            if (confM[amax, k] == np.max(confM[amax, :])):\n",
    "                clusterMapping[k] = amax\n",
    "                notDone = False\n",
    "            elif (sum(temp) == 0):\n",
    "                notDone = False\n",
    "            else:\n",
    "                temp[amax] = 0\n",
    "    for k in classes:\n",
    "        if (clusterMapping[k] == -1):\n",
    "            #print(\"-1\")\n",
    "            for j in classes:\n",
    "                if j not in clusterMapping:\n",
    "                    clusterMapping[k] = j\n",
    "\n",
    "    return clusterMapping\n"
   ]
  },
  {
   "cell_type": "code",
   "execution_count": 238,
   "metadata": {},
   "outputs": [],
   "source": [
    "# loading the digits data and normalising to values between 0 and 1\n",
    "\n",
    "digits = datasets.load_digits()\n",
    "\n",
    "\n",
    "num_examples = len(digits.data)\n",
    "num_split = int(0.7 * num_examples)\n",
    "train_features = 1/16. * digits.data[:num_split]\n",
    "train_labels = digits.target[:num_split]\n",
    "test_features = 1/16. *digits.data[num_split:]\n",
    "test_labels = digits.target[num_split:]\n",
    "\n",
    "num_attributes = 64\n",
    "\n",
    "num_classes = 10\n",
    "\n",
    "# alternatively, loading the MNIST_Light data, which is normalised in the get_data() method already\n",
    "# OBS: this will take a while to run!\n",
    "\n",
    "#mnist = mn.MNISTData('Handout_MNIST/MNIST_Light/*/*.png')\n",
    "#train_features, test_features, train_labels, test_labels = mnist.get_data()\n",
    "#num_attributes = 400\n",
    "#num_classes = 10"
   ]
  },
  {
   "cell_type": "code",
   "execution_count": 243,
   "metadata": {},
   "outputs": [
    {
     "name": "stdout",
     "output_type": "stream",
     "text": [
      "64\n",
      "Completeness, homogeneity, adj mutual info EM vs labels 0.6994765052108034 0.679848524128796 0.6849629437515713\n"
     ]
    },
    {
     "data": {
      "image/png": "[encoded data removed]",
      "text/plain": [
       "<Figure size 432x288 with 1 Axes>"
      ]
     },
     "metadata": {
      "needs_background": "light"
     },
     "output_type": "display_data"
    },
    {
     "data": {
      "image/png": "[encoded data removed]",
      "text/plain": [
       "<Figure size 432x288 with 1 Axes>"
      ]
     },
     "metadata": {
      "needs_background": "light"
     },
     "output_type": "display_data"
    },
    {
     "data": {
      "image/png": "[encoded data removed]",
      "text/plain": [
       "<Figure size 432x288 with 1 Axes>"
      ]
     },
     "metadata": {
      "needs_background": "light"
     },
     "output_type": "display_data"
    },
    {
     "data": {
      "image/png": "[encoded data removed]",
      "text/plain": [
       "<Figure size 432x288 with 1 Axes>"
      ]
     },
     "metadata": {
      "needs_background": "light"
     },
     "output_type": "display_data"
    },
    {
     "data": {
      "image/png": "[encoded data removed]",
      "text/plain": [
       "<Figure size 432x288 with 1 Axes>"
      ]
     },
     "metadata": {
      "needs_background": "light"
     },
     "output_type": "display_data"
    },
    {
     "data": {
      "image/png": "[encoded data removed]",
      "text/plain": [
       "<Figure size 432x288 with 1 Axes>"
      ]
     },
     "metadata": {
      "needs_background": "light"
     },
     "output_type": "display_data"
    },
    {
     "data": {
      "image/png": "[encoded data removed]",
      "text/plain": [
       "<Figure size 432x288 with 1 Axes>"
      ]
     },
     "metadata": {
      "needs_background": "light"
     },
     "output_type": "display_data"
    },
    {
     "data": {
      "image/png": "[encoded data removed]",
      "text/plain": [
       "<Figure size 432x288 with 1 Axes>"
      ]
     },
     "metadata": {
      "needs_background": "light"
     },
     "output_type": "display_data"
    },
    {
     "data": {
      "image/png": "[encoded data removed]",
      "text/plain": [
       "<Figure size 432x288 with 1 Axes>"
      ]
     },
     "metadata": {
      "needs_background": "light"
     },
     "output_type": "display_data"
    },
    {
     "data": {
      "image/png": "[encoded data removed]",
      "text/plain": [
       "<Figure size 432x288 with 1 Axes>"
      ]
     },
     "metadata": {
      "needs_background": "light"
     },
     "output_type": "display_data"
    }
   ],
   "source": [
    "# some dummy call to the EM implementation, here you will have to change things (add parameters, for example)\n",
    "\n",
    "emClusters = EMClusters()\n",
    "emClusters.initialise(train_features, num_classes, num_attributes)\n",
    "clustered, clusterMeansVars = emClusters.fit()\n",
    "\n",
    "completeness_score = metrics.completeness_score(train_labels, clustered)\n",
    "homogeneity_score = metrics.homogeneity_score(train_labels, clustered)\n",
    "mutual_info_score = metrics.adjusted_mutual_info_score(train_labels, clustered)\n",
    "print( \"Completeness, homogeneity, adj mutual info EM vs labels\", completeness_score, homogeneity_score, mutual_info_score)\n",
    "\n",
    "for index, center in enumerate(clusterMeansVars[:,:,0]):\n",
    "    img = center.reshape(8, 8)\n",
    "    plt.figure()\n",
    "    plt.axis('off')\n",
    "    plt.imshow(img, cmap=plt.cm.gray_r)\n",
    "    plt.show()"
   ]
  },
  {
   "cell_type": "code",
   "execution_count": 235,
   "metadata": {},
   "outputs": [
    {
     "name": "stdout",
     "output_type": "stream",
     "text": [
      "[[124   0   0   0   0   0   0   1   0   0]\n",
      " [  0   5   0  47  77   0   0   0   0   0]\n",
      " [  0   1   3   6 113   0   0   0   0   1]\n",
      " [  0   3 115   0   0   0   0   0   0  12]\n",
      " [  0   6   0   8   0   0   1 109   0   0]\n",
      " [  0   0   2   0   0   0  67   0  33  24]\n",
      " [  0   0   0   0   1 121   0   0   4   1]\n",
      " [  0 110   0   5   0   0  10   0   0   0]\n",
      " [  0   2   2   9  45   0   9   0  14  41]\n",
      " [  0   3   6  15   0   0   6   0   1  94]]\n",
      "[0 7 3 8 2 6 5 4 1 9]\n",
      "[[124   0   0   0   0   0   0   1   0   0]\n",
      " [  0 110   0   5   0   0  10   0   0   0]\n",
      " [  0   3 115   0   0   0   0   0   0  12]\n",
      " [  0   2   2   9  45   0   9   0  14  41]\n",
      " [  0   1   3   6 113   0   0   0   0   1]\n",
      " [  0   0   0   0   1 121   0   0   4   1]\n",
      " [  0   0   2   0   0   0  67   0  33  24]\n",
      " [  0   6   0   8   0   0   1 109   0   0]\n",
      " [  0   5   0  47  77   0   0   0   0   0]\n",
      " [  0   3   6  15   0   0   6   0   1  94]]\n",
      "Precision -  0  =  0.992\n",
      "Precision -  1  =  0.88\n",
      "Precision -  2  =  0.8846153846153846\n",
      "Precision -  3  =  0.07377049180327869\n",
      "Precision -  4  =  0.9112903225806451\n",
      "Precision -  5  =  0.952755905511811\n",
      "Precision -  6  =  0.5317460317460317\n",
      "Precision -  7  =  0.8790322580645161\n",
      "Precision -  8  =  0.0\n",
      "Precision -  9  =  0.752\n",
      "Accuracy =  0.6857597454256166\n"
     ]
    }
   ],
   "source": [
    "print(metrics.confusion_matrix(train_labels, clustered))\n",
    "clusterMapping = correctClusters(metrics.confusion_matrix(train_labels, clustered), range(10))\n",
    "\n",
    "correctedClustered = metrics.confusion_matrix(train_labels, clustered)\n",
    "print(clusterMapping)\n",
    "correctedClustered = correctedClustered[clusterMapping]\n",
    "print(correctedClustered)\n",
    "diagonalSum = 0\n",
    "for i in range(10):\n",
    "    diagonalSum += correctedClustered[i][i]\n",
    "    print(\"Precision - \", i, \" = \", correctedClustered[i][i] / sum(correctedClustered[i])) \n",
    "print(\"Accuracy = \", diagonalSum/len(train_labels))"
   ]
  },
  {
   "cell_type": "code",
   "execution_count": 223,
   "metadata": {},
   "outputs": [
    {
     "name": "stdout",
     "output_type": "stream",
     "text": [
      "Precision -  0  =  0.9763779527559056\n",
      "Precision -  1  =  0.8461538461538461\n",
      "Precision -  2  =  0.8467741935483871\n",
      "Precision -  3  =  0.753968253968254\n",
      "Precision -  4  =  0.8870967741935484\n",
      "Precision -  5  =  0.5327868852459017\n",
      "Precision -  6  =  1.0\n",
      "Precision -  7  =  0.976\n",
      "Precision -  8  =  0.3023255813953488\n",
      "Precision -  9  =  0.76\n",
      "Completeness, homogeneity, adj mutual info EM vs labels 0.7530384414693123 0.7450364308837993 0.745366985574515\n",
      "[[124   0   0   0   0   2   1   0   0   0]\n",
      " [  0 110   0   0   0   0   0   4   0  16]\n",
      " [  0   3 105   0   0   9   0   3   3   1]\n",
      " [  0   2   0  95   1   0   0   0   0  28]\n",
      " [  0   0   0   0 110   2   0   6   6   0]\n",
      " [  1   2   2   6   0  65   0   1   4  41]\n",
      " [  0   0   0   0   0   0 125   0   0   0]\n",
      " [  0   0   0   1   0   0   0 122   2   0]\n",
      " [  2   0  25   0   0  63   0   0  39   0]\n",
      " [  0   5   0   3   0   0   0   7  15  95]]\n",
      "Accuracy =  0.7875894988066826\n",
      "Classification report for classifier KMeans(n_clusters=10):\n",
      "              precision    recall  f1-score   support\n",
      "\n",
      "           0       0.00      0.00      0.00        78\n",
      "           1       0.00      0.00      0.00       124\n",
      "           2       0.00      0.00      0.00       116\n",
      "           3       0.00      0.00      0.00       124\n",
      "           4       0.00      0.00      0.00       303\n",
      "           5       0.00      0.00      0.00        61\n",
      "           6       0.00      0.00      0.00       123\n",
      "           7       0.00      0.00      0.00       127\n",
      "           8       0.00      0.00      0.00       120\n",
      "           9       0.01      0.01      0.01        81\n",
      "\n",
      "    accuracy                           0.00      1257\n",
      "   macro avg       0.00      0.00      0.00      1257\n",
      "weighted avg       0.00      0.00      0.00      1257\n",
      "\n",
      "\n"
     ]
    },
    {
     "data": {
      "text/plain": [
       "array([[  0,   2,  72,   0,   0,   3,   0,   0,   0,   1],\n",
       "       [  0,   0,   1,   2,   0, 116,   0,   3,   0,   2],\n",
       "       [  0,   0,   0,  97,   0,   1,   0,  17,   1,   0],\n",
       "       [  0,   0,   0,   0,   0,   0, 124,   0,   0,   0],\n",
       "       [  0, 119,   0,   6,   0,   1,   0,   0,   0, 177],\n",
       "       [  2,   0,  59,   0,   0,   0,   0,   0,   0,   0],\n",
       "       [  0,   0,   0,   0, 108,   0,   0,   4,  11,   0],\n",
       "       [125,   0,   0,   0,   0,   0,   2,   0,   0,   0],\n",
       "       [  0,   1,   0,   0,   0,   0,   0, 119,   0,   0],\n",
       "       [  0,   0,   0,   0,   3,  20,   0,   0,  57,   1]])"
      ]
     },
     "execution_count": 223,
     "metadata": {},
     "output_type": "execute_result"
    }
   ],
   "source": [
    "# In this cell you should add the k-Means clustering to be able to compare to what you got with EM\n",
    "# If you apply \"correctClusters\" from above (works with any confusion matrix), you can even test the results \n",
    "# against your or SKLearn's results in a classification attempt.\n",
    "from sklearn import cluster\n",
    "cluster_classifier = cluster.KMeans(n_clusters=10)\n",
    "clusters = cluster_classifier.fit(train_features)\n",
    "\n",
    "cluster_predicted = cluster_classifier.predict(train_features)\n",
    "\n",
    "cc = correctClusters(metrics.confusion_matrix(train_labels, cluster_predicted), range(10))\n",
    "t = metrics.confusion_matrix(train_labels, cluster_predicted)\n",
    "t = t[cc]\n",
    "diagonalSum = 0\n",
    "for i in range(10):\n",
    "    diagonalSum += t[i][i]\n",
    "    print(\"Precision - \", i, \" = \", t[i][i] / sum(t[i])) \n",
    "\n",
    "\n",
    "completeness_score = metrics.completeness_score(train_labels, cluster_predicted)\n",
    "homogeneity_score = metrics.homogeneity_score(train_labels, cluster_predicted)\n",
    "mutual_info_score = metrics.adjusted_mutual_info_score(train_labels, cluster_predicted)\n",
    "print( \"Completeness, homogeneity, adj mutual info EM vs labels\", completeness_score, homogeneity_score, mutual_info_score)\n",
    "\n",
    "\n",
    "print(t)\n",
    "print(\"Accuracy = \", diagonalSum/len(train_labels))"
   ]
  },
  {
   "cell_type": "code",
   "execution_count": 227,
   "metadata": {},
   "outputs": [
    {
     "name": "stdout",
     "output_type": "stream",
     "text": [
      "Completeness, homogeneity, adj mutual info EM vs labels 0.8239719651870656 0.8535062228164128 0.8360645893631216\n"
     ]
    }
   ],
   "source": [
    "completeness_score = metrics.completeness_score(clustered, cluster_predicted)\n",
    "homogeneity_score = metrics.homogeneity_score(clustered, cluster_predicted)\n",
    "mutual_info_score = metrics.adjusted_mutual_info_score(clustered, cluster_predicted)\n",
    "print( \"Completeness, homogeneity, adj mutual info EM vs labels\", completeness_score, homogeneity_score, mutual_info_score)"
   ]
  },
  {
   "cell_type": "code",
   "execution_count": null,
   "metadata": {},
   "outputs": [],
   "source": []
  },
  {
   "cell_type": "markdown",
   "metadata": {},
   "source": [
    "5. Because the completeness is 1 and homogeneity is 0, this means that all data points are part of the same cluster, i.e. all data points from a class belong to the same cluster(good completeness), but the cluster contains all different data point classes(bad homogeneity)."
   ]
  }
 ],
 "metadata": {
  "kernelspec": {
   "display_name": "Python 3",
   "language": "python",
   "name": "python3"
  },
  "language_info": {
   "codemirror_mode": {
    "name": "ipython",
    "version": 3
   },
   "file_extension": ".py",
   "mimetype": "text/x-python",
   "name": "python",
   "nbconvert_exporter": "python",
   "pygments_lexer": "ipython3",
   "version": "3.9.7"
  }
 },
 "nbformat": 4,
 "nbformat_minor": 1
}
