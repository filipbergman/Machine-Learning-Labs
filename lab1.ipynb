{
 "cells": [
  {
   "cell_type": "code",
   "execution_count": 279,
   "metadata": {},
   "outputs": [],
   "source": [
    "from sklearn import datasets, neighbors, metrics, cluster\n",
    "import numpy as np\n",
    "import matplotlib.pyplot as plt\n",
    "digits = datasets.load_digits()\n"
   ]
  },
  {
   "cell_type": "markdown",
   "metadata": {},
   "source": [
    "The pixel values for the first image:"
   ]
  },
  {
   "cell_type": "code",
   "execution_count": 280,
   "metadata": {},
   "outputs": [
    {
     "data": {
      "text/plain": [
       "array([ 0.,  0.,  5., 13.,  9.,  1.,  0.,  0.,  0.,  0., 13., 15., 10.,\n",
       "       15.,  5.,  0.,  0.,  3., 15.,  2.,  0., 11.,  8.,  0.,  0.,  4.,\n",
       "       12.,  0.,  0.,  8.,  8.,  0.,  0.,  5.,  8.,  0.,  0.,  9.,  8.,\n",
       "        0.,  0.,  4., 11.,  0.,  1., 12.,  7.,  0.,  0.,  2., 14.,  5.,\n",
       "       10., 12.,  0.,  0.,  0.,  0.,  6., 13., 10.,  0.,  0.,  0.])"
      ]
     },
     "execution_count": 280,
     "metadata": {},
     "output_type": "execute_result"
    }
   ],
   "source": [
    "digits.data[0]"
   ]
  },
  {
   "cell_type": "code",
   "execution_count": 281,
   "metadata": {},
   "outputs": [],
   "source": [
    "num_examples = len(digits.data)\n",
    "training_length = int(0.7*num_examples)\n",
    "\n",
    "train_features = digits.data[:training_length]\n",
    "train_labels =  digits.target[:training_length]\n",
    "test_features = digits.data[training_length:]\n",
    "test_labels = digits.target[training_length:]"
   ]
  },
  {
   "cell_type": "code",
   "execution_count": 282,
   "metadata": {},
   "outputs": [
    {
     "data": {
      "text/plain": [
       "KNeighborsClassifier(algorithm='brute')"
      ]
     },
     "execution_count": 282,
     "metadata": {},
     "output_type": "execute_result"
    }
   ],
   "source": [
    "n_neighbors = 5\n",
    "\n",
    "kNNClassifier = neighbors.KNeighborsClassifier(n_neighbors, algorithm='brute')\n",
    "kNNClassifier.fit(train_features, train_labels)"
   ]
  },
  {
   "cell_type": "code",
   "execution_count": 283,
   "metadata": {},
   "outputs": [
    {
     "name": "stdout",
     "output_type": "stream",
     "text": [
      "Classification report for classifier KNeighborsClassifier(algorithm='brute'):\n",
      "              precision    recall  f1-score   support\n",
      "\n",
      "           0       0.98      0.98      0.98        53\n",
      "           1       0.95      0.98      0.96        53\n",
      "           2       0.98      0.96      0.97        53\n",
      "           3       0.96      0.92      0.94        53\n",
      "           4       0.98      0.96      0.97        57\n",
      "           5       0.95      0.98      0.96        56\n",
      "           6       0.98      1.00      0.99        54\n",
      "           7       0.95      1.00      0.97        54\n",
      "           8       0.96      0.90      0.93        52\n",
      "           9       0.96      0.95      0.95        55\n",
      "\n",
      "    accuracy                           0.96       540\n",
      "   macro avg       0.96      0.96      0.96       540\n",
      "weighted avg       0.97      0.96      0.96       540\n",
      "\n",
      "\n"
     ]
    }
   ],
   "source": [
    "predicted = kNNClassifier.predict(test_features)\n",
    "distances, neighbor_indices = kNNClassifier.kneighbors(test_features)\n",
    "print(\"Classification report for classifier %s:\\n%s\\n\"\n",
    "      % (kNNClassifier, metrics.classification_report(test_labels, predicted)))"
   ]
  },
  {
   "cell_type": "markdown",
   "metadata": {},
   "source": [
    "i, i matrix, where the value at M[i,i] is the amount of times the digit i is predicted to the digit i. So M[0,4] = 1 here means that the digit 4 has been predicted to be a 0 one time"
   ]
  },
  {
   "cell_type": "code",
   "execution_count": 284,
   "metadata": {},
   "outputs": [
    {
     "data": {
      "text/plain": [
       "array([[52,  0,  0,  0,  1,  0,  0,  0,  0,  0],\n",
       "       [ 0, 52,  0,  0,  0,  0,  0,  0,  0,  1],\n",
       "       [ 1,  0, 51,  1,  0,  0,  0,  0,  0,  0],\n",
       "       [ 0,  0,  1, 49,  0,  1,  0,  1,  1,  0],\n",
       "       [ 0,  0,  0,  0, 55,  0,  0,  1,  1,  0],\n",
       "       [ 0,  0,  0,  0,  0, 55,  1,  0,  0,  0],\n",
       "       [ 0,  0,  0,  0,  0,  0, 54,  0,  0,  0],\n",
       "       [ 0,  0,  0,  0,  0,  0,  0, 54,  0,  0],\n",
       "       [ 0,  3,  0,  0,  0,  0,  0,  1, 47,  1],\n",
       "       [ 0,  0,  0,  1,  0,  2,  0,  0,  0, 52]])"
      ]
     },
     "execution_count": 284,
     "metadata": {},
     "output_type": "execute_result"
    }
   ],
   "source": [
    "metrics.confusion_matrix(test_labels, predicted)"
   ]
  },
  {
   "cell_type": "markdown",
   "metadata": {},
   "source": [
    "Visualize predictions:"
   ]
  },
  {
   "cell_type": "code",
   "execution_count": 285,
   "metadata": {},
   "outputs": [
    {
     "name": "stdout",
     "output_type": "stream",
     "text": [
      "test\n",
      "test\n",
      "test\n"
     ]
    },
    {
     "data": {
      "image/png": "[encoded data removed]",
      "text/plain": [
       "<Figure size 432x288 with 5 Axes>"
      ]
     },
     "metadata": {
      "needs_background": "light"
     },
     "output_type": "display_data"
    },
    {
     "data": {
      "image/png": "[encoded data removed]",
      "text/plain": [
       "<Figure size 432x288 with 5 Axes>"
      ]
     },
     "metadata": {
      "needs_background": "light"
     },
     "output_type": "display_data"
    },
    {
     "data": {
      "image/png": "[encoded data removed]",
      "text/plain": [
       "<Figure size 432x288 with 5 Axes>"
      ]
     },
     "metadata": {
      "needs_background": "light"
     },
     "output_type": "display_data"
    }
   ],
   "source": [
    "#plt.imshow(digits.images[neighbor_indices[0][0]], cmap=plt.cm.gray_r, interpolation='nearest')\n",
    "for j in range(3):\n",
    "    #plt.subplot(1, 6, 1)\n",
    "    print('test')\n",
    "    #plt.imshow(digits.images[neighbor_indices[j][0]], cmap=plt.cm.gray_r, interpolation='nearest')\n",
    "    fig, axis = plt.subplots(nrows=1, ncols=5)\n",
    "    fig.tight_layout(pad=1.0)\n",
    "    for i in range(5):\n",
    "        plt.subplot(1, 5, i + 1)\n",
    "        img_mat = np.reshape(digits.data[neighbor_indices[j][i]], (8,8))\n",
    "        plt.imshow(img_mat, cmap=plt.cm.gray_r, interpolation='nearest')\n",
    "        plt.title('Label: %i' % digits.target[neighbor_indices[j][i]])\n",
    "        #'Predicted as: %i' % predicted[i]\n",
    "\n"
   ]
  },
  {
   "cell_type": "code",
   "execution_count": 299,
   "metadata": {},
   "outputs": [
    {
     "name": "stdout",
     "output_type": "stream",
     "text": [
      "[[11.66190379 16.94107435 18.16590212 19.31320792 20.19900988]\n",
      " [21.09502311 21.47091055 21.61018278 21.74856317 21.81742423]\n",
      " [18.02775638 18.1934054  19.62141687 21.16601049 21.9317122 ]\n",
      " ...\n",
      " [20.83266666 21.70253441 22.93468988 24.0208243  25.63201124]\n",
      " [19.5192213  21.09502311 23.87467277 24.69817807 24.8394847 ]\n",
      " [26.73948391 27.62245463 27.73084925 27.80287755 27.92848009]] [[ 353  817  297  366 1254]\n",
      " [1177  588  725  824  328]\n",
      " [ 376  791  801  165  896]\n",
      " ...\n",
      " [ 148  248  242 1069  255]\n",
      " [ 254  251  849  417  199]\n",
      " [ 183  248 1015  513  224]]\n"
     ]
    }
   ],
   "source": [
    "print(distances, neighbor_indices)"
   ]
  },
  {
   "cell_type": "markdown",
   "metadata": {},
   "source": [
    "PART 5"
   ]
  },
  {
   "cell_type": "code",
   "execution_count": 286,
   "metadata": {},
   "outputs": [],
   "source": [
    "cluster_classifier = cluster.KMeans(n_clusters=10)\n",
    "clusters = cluster_classifier.fit(train_features)"
   ]
  },
  {
   "cell_type": "code",
   "execution_count": 297,
   "metadata": {},
   "outputs": [
    {
     "name": "stdout",
     "output_type": "stream",
     "text": [
      "[[ 0.00000000e+00  0.00000000e+00  2.09090909e-01  7.10000000e+00\n",
      "   1.23636364e+01  1.72727273e+00  2.09090909e-01  7.27272727e-02\n",
      "   1.30104261e-18  1.81818182e-02  3.18181818e+00  1.39909091e+01\n",
      "   9.07272727e+00  1.92727273e+00  1.24545455e+00  3.45454545e-01\n",
      "   6.50521303e-19  7.09090909e-01  1.08727273e+01  1.18545455e+01\n",
      "   4.98181818e+00  5.69090909e+00  4.27272727e+00  4.09090909e-01\n",
      "   9.09090909e-03  5.00000000e+00  1.48272727e+01  6.22727273e+00\n",
      "   7.76363636e+00  1.03545455e+01  5.63636364e+00  2.72727273e-02\n",
      "   0.00000000e+00  8.78181818e+00  1.47545455e+01  9.95454545e+00\n",
      "   1.36545455e+01  1.39545455e+01  5.17272727e+00  0.00000000e+00\n",
      "   1.18181818e-01  5.85454545e+00  1.06272727e+01  1.19818182e+01\n",
      "   1.49727273e+01  1.05545455e+01  1.68181818e+00  1.73472348e-18\n",
      "   9.09090909e-02  9.09090909e-01  2.07272727e+00  7.19090909e+00\n",
      "   1.41909091e+01  3.58181818e+00  2.72727273e-02  2.77555756e-17\n",
      "   3.25260652e-19  2.72727273e-02  2.81818182e-01  7.99090909e+00\n",
      "   1.25363636e+01  1.57272727e+00  4.44089210e-16  0.00000000e+00]\n",
      " [ 0.00000000e+00  6.85039370e-01  9.03149606e+00  1.43622047e+01\n",
      "   1.37165354e+01  6.92125984e+00  6.85039370e-01  2.77555756e-17\n",
      "   2.36220472e-02  4.42519685e+00  1.25354331e+01  8.81889764e+00\n",
      "   1.14724409e+01  1.16771654e+01  2.01574803e+00  1.57480315e-02\n",
      "   7.87401575e-03  2.24409449e+00  3.62204724e+00  3.33070866e+00\n",
      "   1.19921260e+01  9.48031496e+00  8.97637795e-01  0.00000000e+00\n",
      "   1.08420217e-19  1.25984252e-01  1.11023622e+00  8.43307087e+00\n",
      "   1.44251969e+01  6.78740157e+00  1.88976378e-01  4.33680869e-19\n",
      "   0.00000000e+00  8.66141732e-02  8.50393701e-01  4.69291339e+00\n",
      "   1.15905512e+01  1.23464567e+01  2.20472441e+00  0.00000000e+00\n",
      "   5.20417043e-18  6.45669291e-01  1.93700787e+00  5.98425197e-01\n",
      "   3.55118110e+00  1.26692913e+01  6.50393701e+00  6.93889390e-18\n",
      "   5.20417043e-18  1.08661417e+00  7.23622047e+00  6.08661417e+00\n",
      "   8.14960630e+00  1.37874016e+01  5.70078740e+00  2.36220472e-02\n",
      "   1.08420217e-19  5.27559055e-01  9.78740157e+00  1.47637795e+01\n",
      "   1.38503937e+01  8.19685039e+00  1.13385827e+00  3.93700787e-02]\n",
      " [ 0.00000000e+00  1.55172414e-01  6.04597701e+00  1.22816092e+01\n",
      "   1.19540230e+01  5.67241379e+00  5.22988506e-01  1.14942529e-02\n",
      "   4.33680869e-19  2.48850575e+00  1.40517241e+01  9.51149425e+00\n",
      "   9.04022989e+00  1.01954023e+01  1.16666667e+00  5.74712644e-03\n",
      "   2.16840434e-19  4.49425287e+00  1.28448276e+01  4.46551724e+00\n",
      "   6.85057471e+00  1.11034483e+01  1.62643678e+00  1.38777878e-17\n",
      "   1.08420217e-19  2.49425287e+00  1.06436782e+01  1.15114943e+01\n",
      "   1.34367816e+01  1.20517241e+01  2.16666667e+00  4.33680869e-19\n",
      "   0.00000000e+00  4.13793103e-01  3.72413793e+00  6.81034483e+00\n",
      "   7.31034483e+00  1.12011494e+01  3.75862069e+00  0.00000000e+00\n",
      "   5.20417043e-18  2.87356322e-01  2.56896552e+00  1.90229885e+00\n",
      "   1.75862069e+00  1.11034483e+01  6.41379310e+00  2.29885057e-02\n",
      "   5.20417043e-18  7.75862069e-01  8.50000000e+00  6.00000000e+00\n",
      "   4.39655172e+00  1.16379310e+01  6.87356322e+00  1.55172414e-01\n",
      "   1.08420217e-19  1.49425287e-01  5.93678161e+00  1.30459770e+01\n",
      "   1.44310345e+01  1.08045977e+01  2.97126437e+00  1.26436782e-01]\n",
      " [ 0.00000000e+00  1.39860140e-02  4.49650350e+00  1.26293706e+01\n",
      "   1.34825175e+01  1.10979021e+01  5.59440559e+00  1.29370629e+00\n",
      "   4.33680869e-19  6.57342657e-01  1.06503497e+01  1.19230769e+01\n",
      "   1.03776224e+01  1.25104895e+01  6.04895105e+00  7.55244755e-01\n",
      "   2.16840434e-19  1.05594406e+00  5.86713287e+00  2.13986014e+00\n",
      "   6.37062937e+00  1.13426573e+01  3.83216783e+00  1.60839161e-01\n",
      "   1.08420217e-19  1.10489510e+00  5.20979021e+00  5.85314685e+00\n",
      "   1.21118881e+01  1.21748252e+01  4.94405594e+00  6.99300699e-03\n",
      "   0.00000000e+00  1.32167832e+00  8.92307692e+00  1.26783217e+01\n",
      "   1.47272727e+01  1.09160839e+01  3.79020979e+00  0.00000000e+00\n",
      "   6.93889390e-18  1.04195804e+00  5.29370629e+00  1.12167832e+01\n",
      "   1.10489510e+01  3.72027972e+00  5.80419580e-01  6.93889390e-18\n",
      "   6.93889390e-18  3.49650350e-02  2.53846154e+00  1.24545455e+01\n",
      "   6.32867133e+00  4.40559441e-01  2.09790210e-02  0.00000000e+00\n",
      "   1.08420217e-19  3.49650350e-02  5.55244755e+00  1.20909091e+01\n",
      "   2.69230769e+00  4.33566434e-01  4.89510490e-02  1.11022302e-16]\n",
      " [ 0.00000000e+00  1.23762376e+00  1.06039604e+01  1.32772277e+01\n",
      "   1.37524752e+01  1.26336634e+01  5.41584158e+00  5.94059406e-02\n",
      "   9.90099010e-03  5.01980198e+00  1.52178218e+01  1.25247525e+01\n",
      "   9.34653465e+00  8.31683168e+00  3.29702970e+00  4.95049505e-02\n",
      "   2.16840434e-19  5.98019802e+00  1.44059406e+01  5.65346535e+00\n",
      "   1.97029703e+00  1.10891089e+00  2.07920792e-01  1.38777878e-17\n",
      "   1.08420217e-19  4.68316832e+00  1.38217822e+01  1.22475248e+01\n",
      "   8.00000000e+00  1.77227723e+00  1.08910891e-01  4.33680869e-19\n",
      "   0.00000000e+00  1.80198020e+00  7.68316832e+00  1.00198020e+01\n",
      "   1.04653465e+01  4.63366337e+00  2.77227723e-01  0.00000000e+00\n",
      "   5.20417043e-18  2.97029703e-01  1.37623762e+00  5.10891089e+00\n",
      "   1.10693069e+01  6.24752475e+00  4.45544554e-01  3.46944695e-18\n",
      "   5.20417043e-18  8.31683168e-01  5.25742574e+00  9.61386139e+00\n",
      "   1.29405941e+01  4.41584158e+00  2.27722772e-01  2.77555756e-17\n",
      "   1.08420217e-19  1.11881188e+00  1.16435644e+01  1.47722772e+01\n",
      "   7.65346535e+00  7.62376238e-01 -4.44089210e-16  5.55111512e-17]\n",
      " [ 0.00000000e+00  3.17460317e-02  4.13492063e+00  1.29841270e+01\n",
      "   1.14841270e+01  3.28571429e+00  3.96825397e-02  5.55111512e-17\n",
      "   1.30104261e-18  9.92063492e-01  1.27063492e+01  1.31031746e+01\n",
      "   1.10555556e+01  1.15238095e+01  1.26190476e+00 -2.77555756e-17\n",
      "   6.50521303e-19  3.96825397e+00  1.42936508e+01  4.72222222e+00\n",
      "   2.15079365e+00  1.17380952e+01  3.92063492e+00  1.38777878e-17\n",
      "   3.25260652e-19  5.42857143e+00  1.26825397e+01  1.61111111e+00\n",
      "   2.93650794e-01  9.11904762e+00  6.52380952e+00  1.30104261e-18\n",
      "   0.00000000e+00  5.95238095e+00  1.14126984e+01  6.50793651e-01\n",
      "   3.96825397e-02  9.06349206e+00  7.04761905e+00  0.00000000e+00\n",
      "   5.20417043e-18  3.54761905e+00  1.31190476e+01  1.61111111e+00\n",
      "   1.35714286e+00  1.13412698e+01  5.67460317e+00  5.20417043e-18\n",
      "   5.20417043e-18  8.01587302e-01  1.30952381e+01  9.50000000e+00\n",
      "   1.01746032e+01  1.31349206e+01  2.46825397e+00  2.77555756e-17\n",
      "   3.25260652e-19  1.66533454e-16  4.17460317e+00  1.35555556e+01\n",
      "   1.33333333e+01  5.26190476e+00  3.25396825e-01  5.55111512e-17]\n",
      " [ 0.00000000e+00 -5.55111512e-17  1.24409449e+00  1.10551181e+01\n",
      "   9.85826772e+00  1.82677165e+00  6.29921260e-02  8.32667268e-17\n",
      "   8.67361738e-19  7.87401575e-02  7.74015748e+00  1.44724409e+01\n",
      "   6.16535433e+00  1.07874016e+00  6.29921260e-02 -2.77555756e-17\n",
      "   4.33680869e-19  8.97637795e-01  1.30551181e+01  8.83464567e+00\n",
      "   7.71653543e-01  6.29921260e-02  1.11022302e-15  1.38777878e-17\n",
      "   2.16840434e-19  2.67716535e+00  1.38267717e+01  7.03937008e+00\n",
      "   3.19685039e+00  1.47244094e+00  6.29921260e-02  8.67361738e-19\n",
      "   0.00000000e+00  3.65354331e+00  1.48740157e+01  1.23622047e+01\n",
      "   1.21181102e+01  1.01732283e+01  2.29133858e+00  0.00000000e+00\n",
      "   5.20417043e-18  2.03937008e+00  1.48661417e+01  1.11102362e+01\n",
      "   5.88188976e+00  1.05354331e+01  9.27559055e+00  1.02362205e-01\n",
      "   5.20417043e-18  1.96850394e-01  1.05748031e+01  1.24330709e+01\n",
      "   4.97637795e+00  1.08267717e+01  1.11181102e+01  5.90551181e-01\n",
      "   2.16840434e-19  1.66533454e-16  1.51181102e+00  1.07795276e+01\n",
      "   1.50236220e+01  1.32362205e+01  4.96062992e+00  1.49606299e-01]\n",
      " [ 0.00000000e+00  7.04545455e-01  9.60606061e+00  1.43636364e+01\n",
      "   7.82575758e+00  9.46969697e-01 -6.66133815e-16  5.55111512e-17\n",
      "   2.16840434e-18  4.56060606e+00  1.32803030e+01  1.26893939e+01\n",
      "   1.15606061e+01  3.06060606e+00  2.27272727e-02 -2.77555756e-17\n",
      "   7.57575758e-03  4.37121212e+00  8.43181818e+00  6.76515152e+00\n",
      "   1.21439394e+01  3.23484848e+00  2.27272727e-02  0.00000000e+00\n",
      "   5.42101086e-19  1.19696970e+00  3.50757576e+00  7.84848485e+00\n",
      "   1.26136364e+01  2.44696970e+00  5.30303030e-02  2.16840434e-18\n",
      "   0.00000000e+00  1.21212121e-01  1.93939394e+00  1.02651515e+01\n",
      "   1.07500000e+01  1.59848485e+00 -1.77635684e-15  0.00000000e+00\n",
      "   5.20417043e-18  3.03030303e-01  4.43181818e+00  1.05378788e+01\n",
      "   7.64393939e+00  2.28787879e+00  6.36363636e-01  1.73472348e-18\n",
      "   5.20417043e-18  1.20454545e+00  1.05757576e+01  1.32954545e+01\n",
      "   1.13484848e+01  1.05757576e+01  7.36363636e+00  1.40909091e+00\n",
      "   5.42101086e-19  6.66666667e-01  9.69696970e+00  1.45530303e+01\n",
      "   1.41590909e+01  1.34696970e+01  1.01818182e+01  3.64393939e+00]\n",
      " [ 0.00000000e+00  8.60927152e-02  3.61589404e+00  1.11920530e+01\n",
      "   1.25298013e+01  5.95364238e+00  5.03311258e-01  2.77555756e-17\n",
      "   4.33680869e-19  6.75496689e-01  7.92052980e+00  1.34569536e+01\n",
      "   1.29006623e+01  1.05496689e+01  1.62913907e+00 -2.77555756e-17\n",
      "   2.16840434e-19  1.25165563e+00  8.36423841e+00  1.12980132e+01\n",
      "   1.16556291e+01  9.94039735e+00  1.25827815e+00  0.00000000e+00\n",
      "   1.08420217e-19  1.02649007e+00  7.07284768e+00  1.36556291e+01\n",
      "   1.38211921e+01  5.33774834e+00  2.58278146e-01  4.33680869e-19\n",
      "   0.00000000e+00  7.08609272e-01  7.94701987e+00  1.47019868e+01\n",
      "   1.28476821e+01  2.18543046e+00  1.98675497e-02  0.00000000e+00\n",
      "   5.20417043e-18  1.54304636e+00  1.12649007e+01  1.21324503e+01\n",
      "   1.14503311e+01  4.23841060e+00  3.37748344e-01  8.67361738e-18\n",
      "   1.98675497e-02  1.00000000e+00  1.03576159e+01  1.18543046e+01\n",
      "   1.14900662e+01  5.96026490e+00  1.00000000e+00  6.62251656e-03\n",
      "   6.62251656e-03  8.60927152e-02  3.92715232e+00  1.16423841e+01\n",
      "   1.28079470e+01  5.82781457e+00  1.28476821e+00  1.32450331e-02]\n",
      " [ 0.00000000e+00 -1.66533454e-16  4.54545455e-02  1.83333333e+00\n",
      "   1.15454545e+01  1.18939394e+01  4.06060606e+00  7.57575758e-02\n",
      "   4.33680869e-19  3.03030303e-02  1.27272727e+00  8.37878788e+00\n",
      "   1.37424242e+01  1.20454545e+01  5.40909091e+00  2.57575758e-01\n",
      "   2.16840434e-19  8.18181818e-01  7.33333333e+00  1.22878788e+01\n",
      "   1.20757576e+01  1.26363636e+01  4.00000000e+00  1.81818182e-01\n",
      "   1.08420217e-19  3.53030303e+00  1.30454545e+01  1.36212121e+01\n",
      "   1.44393939e+01  1.29848485e+01  2.30303030e+00  4.33680869e-19\n",
      "   0.00000000e+00  2.50000000e+00  8.86363636e+00  9.54545455e+00\n",
      "   1.31363636e+01  1.19696970e+01  1.54545455e+00  0.00000000e+00\n",
      "   3.46944695e-18  8.03030303e-01  2.30303030e+00  4.62121212e+00\n",
      "   1.26363636e+01  1.16363636e+01  8.33333333e-01  5.20417043e-18\n",
      "   3.46944695e-18  4.54545455e-02  2.42424242e-01  3.66666667e+00\n",
      "   1.30757576e+01  1.14696970e+01  8.93939394e-01  2.77555756e-17\n",
      "   1.08420217e-19  1.11022302e-16  4.44089210e-15  1.95454545e+00\n",
      "   1.18939394e+01  1.02727273e+01  1.09090909e+00  1.11022302e-16]]\n"
     ]
    }
   ],
   "source": [
    "print(cluster_classifier.cluster_centers_)"
   ]
  },
  {
   "cell_type": "code",
   "execution_count": 288,
   "metadata": {},
   "outputs": [],
   "source": [
    "cluster_predicted = cluster_classifier.predict(test_features)"
   ]
  },
  {
   "cell_type": "code",
   "execution_count": 289,
   "metadata": {},
   "outputs": [
    {
     "name": "stdout",
     "output_type": "stream",
     "text": [
      "Classification report for classifier KMeans(n_clusters=10):\n",
      "              precision    recall  f1-score   support\n",
      "\n",
      "           0       0.02      0.02      0.02        53\n",
      "           1       0.00      0.00      0.00        53\n",
      "           2       0.04      0.06      0.05        53\n",
      "           3       0.05      0.06      0.05        53\n",
      "           4       0.00      0.00      0.00        57\n",
      "           5       0.00      0.00      0.00        56\n",
      "           6       0.98      0.96      0.97        54\n",
      "           7       0.00      0.00      0.00        54\n",
      "           8       0.41      0.63      0.50        52\n",
      "           9       0.20      0.09      0.13        55\n",
      "\n",
      "    accuracy                           0.18       540\n",
      "   macro avg       0.17      0.18      0.17       540\n",
      "weighted avg       0.17      0.18      0.17       540\n",
      "\n",
      "\n"
     ]
    },
    {
     "data": {
      "text/plain": [
       "array([[ 1,  0,  0,  0,  0, 52,  0,  0,  0,  0],\n",
       "       [ 0,  0,  0,  0,  1,  0,  0,  0, 35, 17],\n",
       "       [ 0,  7,  3,  0,  0,  1,  0, 41,  1,  0],\n",
       "       [ 0, 40,  1,  3,  2,  0,  0,  0,  7,  0],\n",
       "       [52,  0,  0,  2,  0,  1,  0,  0,  1,  1],\n",
       "       [ 1,  0, 19,  0, 35,  0,  1,  0,  0,  0],\n",
       "       [ 0,  0,  0,  0,  0,  0, 52,  0,  1,  1],\n",
       "       [ 0,  0,  0, 51,  0,  0,  0,  0,  3,  0],\n",
       "       [ 0,  1, 12,  3,  1,  0,  0,  1, 33,  1],\n",
       "       [ 0,  3, 42,  1,  4,  0,  0,  0,  0,  5]])"
      ]
     },
     "execution_count": 289,
     "metadata": {},
     "output_type": "execute_result"
    }
   ],
   "source": [
    "print(\"Classification report for classifier %s:\\n%s\\n\"\n",
    "      % (cluster_classifier, metrics.classification_report(test_labels, cluster_predicted)))\n",
    "metrics.confusion_matrix(test_labels, cluster_predicted)"
   ]
  },
  {
   "cell_type": "code",
   "execution_count": 290,
   "metadata": {},
   "outputs": [
    {
     "name": "stdout",
     "output_type": "stream",
     "text": [
      "completeness: 0.754241973135867\n",
      "homogeneity: 0.7457520426489817\n",
      "adjusted mutual information: 0.7463359745891586\n"
     ]
    }
   ],
   "source": [
    "clusters_labels = cluster_classifier.predict(train_features)\n",
    "\n",
    "print(\"completeness: \" + str(metrics.completeness_score( train_labels, clusters_labels)))\n",
    "print(\"homogeneity: \" + str(metrics.homogeneity_score( train_labels, clusters_labels)))\n",
    "\n",
    "print(\"adjusted mutual information: \" + str(metrics.adjusted_mutual_info_score( train_labels, clusters_labels)))"
   ]
  },
  {
   "cell_type": "markdown",
   "metadata": {},
   "source": [
    "Visualize the results:"
   ]
  },
  {
   "cell_type": "code",
   "execution_count": 295,
   "metadata": {},
   "outputs": [
    {
     "data": {
      "image/png": "[encoded data removed]",
      "text/plain": [
       "<Figure size 432x288 with 10 Axes>"
      ]
     },
     "metadata": {
      "needs_background": "light"
     },
     "output_type": "display_data"
    }
   ],
   "source": [
    "for i in range(10):\n",
    "    plt.subplot(2, 5, i + 1)\n",
    "    img_mat = np.reshape(clusters.cluster_centers_[i], (8,8))\n",
    "    plt.imshow(img_mat, cmap=plt.cm.gray_r, interpolation='nearest')\n",
    "    #plt.title('Label: %i' % digits.target[neighbor_indices[j][i]])\n",
    "    #'Predicted as: %i' % predicted[i]\n",
    "\n"
   ]
  },
  {
   "cell_type": "code",
   "execution_count": 296,
   "metadata": {},
   "outputs": [
    {
     "data": {
      "text/plain": [
       "<matplotlib.image.AxesImage at 0x7f4532b73190>"
      ]
     },
     "execution_count": 296,
     "metadata": {},
     "output_type": "execute_result"
    },
    {
     "data": {
      "image/png": "[encoded data removed]",
      "text/plain": [
       "<Figure size 432x288 with 1 Axes>"
      ]
     },
     "metadata": {
      "needs_background": "light"
     },
     "output_type": "display_data"
    }
   ],
   "source": [
    "#Before peer review\n",
    "plt.imshow(clusters.cluster_centers_)"
   ]
  }
 ],
 "metadata": {
  "interpreter": {
   "hash": "ba0bce760fd5fae019cbf72cbb3c648220e2425d0db82f85e11413f0cee04b66"
  },
  "kernelspec": {
   "display_name": "Python 3.9.7 64-bit ('tf': conda)",
   "name": "python3"
  },
  "language_info": {
   "name": "python",
   "version": "3.9.7"
  },
  "orig_nbformat": 4
 },
 "nbformat": 4,
 "nbformat_minor": 2
}
