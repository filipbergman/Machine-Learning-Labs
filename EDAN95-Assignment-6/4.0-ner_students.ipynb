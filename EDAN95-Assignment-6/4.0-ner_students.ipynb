{
 "cells": [
  {
   "cell_type": "markdown",
   "source": [
    "# Programming Assignment #6: Recurrent Neural Networks\n",
    "Author: Pierre Nugues"
   ],
   "metadata": {}
  },
  {
   "cell_type": "markdown",
   "source": [
    "## Objectives"
   ],
   "metadata": {}
  },
  {
   "cell_type": "markdown",
   "source": [
    "The objectives of this assignment are to:\n",
    "* Write a program to recognize named entities in text\n",
    "* Learn how to manage a text data set\n",
    "* Apply recurrent neural networks to text\n",
    "* Know what word embeddings are\n",
    "* Write a short report on your experiments. This report is mandatory to pass the assignment."
   ],
   "metadata": {}
  },
  {
   "cell_type": "markdown",
   "source": [
    "## Organization and location"
   ],
   "metadata": {}
  },
  {
   "cell_type": "markdown",
   "source": [
    "You can work alone or collaborate with another student:\n",
    "* Each group will have to write Python programs to recognize named entities in text.\n",
    "* You will have to experiment different architectures, namely RNN and LSTM, and compare the results you obtained.\n",
    "* Each student will have to write an individual report on these experiments."
   ],
   "metadata": {}
  },
  {
   "cell_type": "markdown",
   "source": [
    "## Imports"
   ],
   "metadata": {}
  },
  {
   "cell_type": "code",
   "execution_count": 204,
   "source": [
    "import sys\n",
    "import regex as re\n",
    "import numpy as np\n",
    "from numpy.linalg import norm\n",
    "from scipy.spatial.distance import cosine\n",
    "import matplotlib.pyplot as plt\n",
    "from sklearn.preprocessing import normalize\n",
    "from keras.models import Sequential\n",
    "from keras.layers import Embedding, Flatten, Dense, Dropout, Lambda, TimeDistributed\n",
    "from keras.layers import LSTM, Bidirectional, SimpleRNN, BatchNormalization\n",
    "from keras.models import Model\n",
    "from keras.preprocessing.sequence import pad_sequences\n",
    "from keras.utils.np_utils import to_categorical\n",
    "from keras.activations import softmax\n",
    "\n",
    "EPOCHS = 15\n",
    "LSTM_UNITS = 100"
   ],
   "outputs": [],
   "metadata": {}
  },
  {
   "cell_type": "markdown",
   "source": [
    "## Collecting a Dataset"
   ],
   "metadata": {}
  },
  {
   "cell_type": "markdown",
   "source": [
    "1. You will use a dataset from the CoNLL conferences that benchmark natural language processing systems and tasks. There were two conferences on named entity recognition: <a href=\"https://www.clips.uantwerpen.be/conll2002/ner/\">CoNLL 2002</a> (Spanish and Dutch) and <a href=\"https://www.clips.uantwerpen.be/conll2003/ner/\">CoNLL 2003</a> (English and German). In this assignment, you will work on the English dataset. Read the description of the task.\n",
    "2. The datasets are protected by a license and you normally need to obtain it to reconstruct the data. As a shortcut, your teacher created a local copy in Canvas. Please use it. See the link in the Canvas description of the lab.\n",
    "3. Alternatively, you can try to find the dataset on github (type conll2003 in the search box) or use the Google dataset search: <a href=\"https://toolbox.google.com/datasetsearch\">https://toolbox.google.com/datasetsearch</a>, but some programmers may have changed the annotation, which could be misleading. \n",
    "4. The dataset comes in the form of three files: a training set, a development set, and a test set. <!--, named:\n",
    "    <tt>eng.train</tt>, <tt>eng.testa</tt> (validation), and <tt>eng.testb</tt> (test).-->"
   ],
   "metadata": {}
  },
  {
   "cell_type": "markdown",
   "source": [
    "## Reading the Corpus"
   ],
   "metadata": {}
  },
  {
   "cell_type": "markdown",
   "source": [
    "You will read the corpus with the cells below. The functions will enable you to load the files in the form of a list of dictionaries."
   ],
   "metadata": {}
  },
  {
   "cell_type": "code",
   "execution_count": 205,
   "source": [
    "BASE_DIR = ''"
   ],
   "outputs": [],
   "metadata": {}
  },
  {
   "cell_type": "code",
   "execution_count": 206,
   "source": [
    "def load_conll2003_en():\n",
    "    train_file = BASE_DIR + 'NER-data/eng.train'\n",
    "    dev_file = BASE_DIR + 'NER-data/eng.valid'\n",
    "    test_file = BASE_DIR + 'NER-data/eng.test'\n",
    "    column_names = ['form', 'ppos', 'pchunk', 'ner']\n",
    "    train_sentences = open(train_file, encoding='utf8').read().strip()\n",
    "    dev_sentences = open(dev_file, encoding='utf8').read().strip()\n",
    "    test_sentences = open(test_file, encoding='utf8').read().strip()\n",
    "    return train_sentences, dev_sentences, test_sentences, column_names"
   ],
   "outputs": [],
   "metadata": {}
  },
  {
   "cell_type": "code",
   "execution_count": 207,
   "source": [
    "train_sentences, dev_sentences, test_sentences, column_names = load_conll2003_en()\n",
    "train_sentences[:100]"
   ],
   "outputs": [
    {
     "output_type": "execute_result",
     "data": {
      "text/plain": [
       "'-DOCSTART- -X- O O\\n\\nEU NNP I-NP I-ORG\\nrejects VBZ I-VP O\\nGerman JJ I-NP I-MISC\\ncall NN I-NP O\\nto TO '"
      ]
     },
     "metadata": {},
     "execution_count": 207
    }
   ],
   "metadata": {}
  },
  {
   "cell_type": "code",
   "execution_count": 208,
   "source": [
    "class Token(dict):\n",
    "    pass\n",
    "\n",
    "\n",
    "class CoNLLDictorizer:\n",
    "\n",
    "    def __init__(self, column_names, sent_sep='\\n\\n', col_sep=' +'):\n",
    "        self.column_names = column_names\n",
    "        self.sent_sep = sent_sep\n",
    "        self.col_sep = col_sep\n",
    "\n",
    "    def fit(self):\n",
    "        pass\n",
    "\n",
    "    def transform(self, corpus):\n",
    "        corpus = corpus.strip()\n",
    "        sentences = re.split(self.sent_sep, corpus)\n",
    "        return list(map(self._split_in_words, sentences))\n",
    "\n",
    "    def fit_transform(self, corpus):\n",
    "        return self.transform(corpus)\n",
    "\n",
    "    def _split_in_words(self, sentence):\n",
    "        rows = re.split('\\n', sentence)\n",
    "        return [Token(dict(zip(self.column_names,\n",
    "                               re.split(self.col_sep, row))))\n",
    "                for row in rows]"
   ],
   "outputs": [],
   "metadata": {}
  },
  {
   "cell_type": "code",
   "execution_count": 209,
   "source": [
    "conll_dict = CoNLLDictorizer(column_names, col_sep=' +')\n",
    "train_dict = conll_dict.transform(train_sentences)\n",
    "dev_dict = conll_dict.transform(dev_sentences)\n",
    "test_dict = conll_dict.transform(test_sentences)"
   ],
   "outputs": [],
   "metadata": {}
  },
  {
   "cell_type": "code",
   "execution_count": 210,
   "source": [
    "train_dict[0]"
   ],
   "outputs": [
    {
     "output_type": "execute_result",
     "data": {
      "text/plain": [
       "[{'form': '-DOCSTART-', 'ppos': '-X-', 'pchunk': 'O', 'ner': 'O'}]"
      ]
     },
     "metadata": {},
     "execution_count": 210
    }
   ],
   "metadata": {}
  },
  {
   "cell_type": "code",
   "execution_count": 211,
   "source": [
    "print('\\n'.join(map(str, train_dict[1])))"
   ],
   "outputs": [
    {
     "output_type": "stream",
     "name": "stdout",
     "text": [
      "{'form': 'EU', 'ppos': 'NNP', 'pchunk': 'I-NP', 'ner': 'I-ORG'}\n",
      "{'form': 'rejects', 'ppos': 'VBZ', 'pchunk': 'I-VP', 'ner': 'O'}\n",
      "{'form': 'German', 'ppos': 'JJ', 'pchunk': 'I-NP', 'ner': 'I-MISC'}\n",
      "{'form': 'call', 'ppos': 'NN', 'pchunk': 'I-NP', 'ner': 'O'}\n",
      "{'form': 'to', 'ppos': 'TO', 'pchunk': 'I-VP', 'ner': 'O'}\n",
      "{'form': 'boycott', 'ppos': 'VB', 'pchunk': 'I-VP', 'ner': 'O'}\n",
      "{'form': 'British', 'ppos': 'JJ', 'pchunk': 'I-NP', 'ner': 'I-MISC'}\n",
      "{'form': 'lamb', 'ppos': 'NN', 'pchunk': 'I-NP', 'ner': 'O'}\n",
      "{'form': '.', 'ppos': '.', 'pchunk': 'O', 'ner': 'O'}\n"
     ]
    }
   ],
   "metadata": {}
  },
  {
   "cell_type": "markdown",
   "source": [
    "## Evaluating your Models"
   ],
   "metadata": {}
  },
  {
   "cell_type": "markdown",
   "source": [
    "You will train the models with the traiing set and the test set to evaluate them. For this, you will apply the `conlleval` script that will compute the harmonic mean of the precision and recall: F1. \n",
    "\n",
    "`conlleval` was written in Perl and you have a local copy of this script in `/usr/local/cs/EDAN95/datasets/ner/bin`. Some people rewrote it in Python and you will use such such a translation in this lab. The line below installs it."
   ],
   "metadata": {}
  },
  {
   "cell_type": "code",
   "execution_count": 213,
   "source": [
    "#!pip install conlleval\n",
    "#import conlleval"
   ],
   "outputs": [],
   "metadata": {}
  },
  {
   "cell_type": "markdown",
   "source": [
    "## Collecting the Embeddings"
   ],
   "metadata": {}
  },
  {
   "cell_type": "markdown",
   "source": [
    "You will represent the words with the GloVe embeddings:\n",
    "1. Either:\n",
    "    * Download the GloVe embeddings 6B from <a href=\"https://nlp.stanford.edu/projects/glove/\">https://nlp.stanford.edu/projects/glove/</a> and keep the 100d vectors; or\n",
    "    * Use the local copy of this dataset in Canvas\n",
    "2. Apply the function below that reads GloVe embeddings and store them in a dictionary, where the keys will be the words and the values, the embedding vectors."
   ],
   "metadata": {}
  },
  {
   "cell_type": "code",
   "execution_count": 214,
   "source": [
    "embedding_file = 'glove.6B.100d.txt'"
   ],
   "outputs": [],
   "metadata": {}
  },
  {
   "cell_type": "code",
   "execution_count": 215,
   "source": [
    "def read_embeddings(file):\n",
    "    \"\"\"\n",
    "    Return the embeddings in the from of a dictionary\n",
    "    :param file:\n",
    "    :return:\n",
    "    \"\"\"\n",
    "    embeddings = {}\n",
    "    glove = open(file, encoding='utf8')\n",
    "    for line in glove:\n",
    "        values = line.strip().split()\n",
    "        word = values[0]\n",
    "        vector = np.array(values[1:], dtype='float32')\n",
    "        embeddings[word] = vector\n",
    "    glove.close()\n",
    "    return embeddings"
   ],
   "outputs": [],
   "metadata": {}
  },
  {
   "cell_type": "code",
   "execution_count": 216,
   "source": [
    "# We read the embeddings\n",
    "embeddings_dict = read_embeddings(embedding_file)\n",
    "embedded_words = sorted(list(embeddings_dict.keys()))\n",
    "print('# words in embedding dictionary:', len(embedded_words))"
   ],
   "outputs": [
    {
     "output_type": "stream",
     "name": "stdout",
     "text": [
      "# words in embedding dictionary: 400000\n"
     ]
    }
   ],
   "metadata": {}
  },
  {
   "cell_type": "markdown",
   "source": [
    "Using a cosine similarity, write a `closest(target_word, embeddings, count=10)` that computes the 10 closest words to the words _table_, _france_, and _sweden_."
   ],
   "metadata": {}
  },
  {
   "cell_type": "code",
   "execution_count": 217,
   "source": [
    "# Write your code here\n",
    "def closest(target_word, embeddings, count=10):\n",
    "    cosine_dict = {}\n",
    "    target_vect = embeddings[target_word]\n",
    "    for word in embeddings:\n",
    "        cosine_dict[word] = np.dot(embeddings[word], target_vect) / np.dot(norm(embeddings[word]), norm(target_vect))\n",
    "    sort_dict = sorted(cosine_dict.items(), key=lambda x: x[1], reverse = True)\n",
    "   \n",
    "    print(sort_dict[:10])"
   ],
   "outputs": [],
   "metadata": {}
  },
  {
   "cell_type": "code",
   "execution_count": 218,
   "source": [
    "closest('france', embeddings_dict)"
   ],
   "outputs": [
    {
     "output_type": "stream",
     "name": "stdout",
     "text": [
      "[('france', 0.99999994), ('belgium', 0.8076422), ('french', 0.8004377), ('britain', 0.79505277), ('spain', 0.7557464), ('paris', 0.74815863), ('germany', 0.729408), ('italy', 0.71636367), ('europe', 0.709714), ('netherlands', 0.70726615)]\n"
     ]
    }
   ],
   "metadata": {}
  },
  {
   "cell_type": "code",
   "execution_count": 219,
   "source": [
    "closest('sweden', embeddings_dict)"
   ],
   "outputs": [
    {
     "output_type": "stream",
     "name": "stdout",
     "text": [
      "[('sweden', 1.0), ('denmark', 0.8624401), ('norway', 0.807325), ('finland', 0.7906495), ('netherlands', 0.7468465), ('austria', 0.74668366), ('switzerland', 0.72333944), ('germany', 0.71736264), ('swedish', 0.71072894), ('belgium', 0.70818645)]\n"
     ]
    }
   ],
   "metadata": {}
  },
  {
   "cell_type": "markdown",
   "source": [
    "## Extracting the $\\mathbf{X}$ and $\\mathbf{Y}$ Lists of Symbols"
   ],
   "metadata": {}
  },
  {
   "cell_type": "markdown",
   "source": [
    "Write a `build_sequences(corpus_dict, key_x='form', key_y='ner', tolower=True)` function that, for each sentence, returns the $\\mathbf{x}$ and $\\mathbf{y}$ lists of symbols consisting of words and NER tags."
   ],
   "metadata": {}
  },
  {
   "cell_type": "markdown",
   "source": [
    "For the second sentence of the training set, you should have:<br/>\n",
    "<tt>x = ['eu', 'rejects', 'german', 'call', 'to', 'boycott', 'british', 'lamb', '.']</tt><br/>\n",
    "<tt>y = ['I-ORG', 'O', 'I-MISC', 'O', 'O', 'O', 'I-MISC', 'O', 'O']</tt><br/>\n",
    "Some datasets you may find on the web use a different NER tagset, where <tt>I-</tt> is\n",
    "replaced with <tt>B-</tt>, like <tt>B-ORG</tt> instead of <tt>I-ORG</tt>. This will not change the final results."
   ],
   "metadata": {}
  },
  {
   "cell_type": "code",
   "execution_count": 220,
   "source": [
    "# Write your code\n",
    "def build_sequences(corpus_dict, key_x='form', key_y='ner', tolower=True):\n",
    "    x = []\n",
    "    y = []\n",
    "    for i, sentence in enumerate(corpus_dict):\n",
    "        x.append([])\n",
    "        y.append([])\n",
    "        for word in sentence:\n",
    "            x[i].append(word[key_x])\n",
    "            y[i].append(word[key_y])\n",
    "    return x,y"
   ],
   "outputs": [],
   "metadata": {}
  },
  {
   "cell_type": "markdown",
   "source": [
    "Apply this function to your datasets so that you create $\\mathbf{X}_\\text{train_symbs}$ and $\\mathbf{Y}_\\text{train_symbs}$ lists of lists consisting of words and NER tags."
   ],
   "metadata": {}
  },
  {
   "cell_type": "code",
   "execution_count": 221,
   "source": [
    "X_train_symbs, Y_train_symbs = build_sequences(train_dict, key_x='form', key_y='ner')\n",
    "X_dev_symbs, Y_dev_symbs = build_sequences(dev_dict, key_x='form', key_y='ner')"
   ],
   "outputs": [],
   "metadata": {}
  },
  {
   "cell_type": "code",
   "execution_count": 222,
   "source": [
    "X_train_symbs[1]"
   ],
   "outputs": [
    {
     "output_type": "execute_result",
     "data": {
      "text/plain": [
       "['EU', 'rejects', 'German', 'call', 'to', 'boycott', 'British', 'lamb', '.']"
      ]
     },
     "metadata": {},
     "execution_count": 222
    }
   ],
   "metadata": {}
  },
  {
   "cell_type": "code",
   "execution_count": 223,
   "source": [
    "Y_train_symbs[1]"
   ],
   "outputs": [
    {
     "output_type": "execute_result",
     "data": {
      "text/plain": [
       "['I-ORG', 'O', 'I-MISC', 'O', 'O', 'O', 'I-MISC', 'O', 'O']"
      ]
     },
     "metadata": {},
     "execution_count": 223
    }
   ],
   "metadata": {}
  },
  {
   "cell_type": "markdown",
   "source": [
    "## Vocabulary"
   ],
   "metadata": {}
  },
  {
   "cell_type": "markdown",
   "source": [
    "Create a vocabulary of all the words observed in the training set and the words in GloVe. You should find 402,595 different words. You will proceed in two steps.\n",
    "\n",
    "First extract the list of unique words from the CoNLL training set and the list of NER tags. You will sort them"
   ],
   "metadata": {}
  },
  {
   "cell_type": "code",
   "execution_count": 224,
   "source": [
    "# Write your code: List of words and tags in CoNLL\n",
    "words_non_unique = [word.lower() for sentece in X_train_symbs for word in sentece]\n",
    "print(len(words_non_unique))\n",
    "words = np.unique(words_non_unique)\n",
    "ner_non_unique = [word for sentece in Y_train_symbs for word in sentece]\n",
    "ner = np.unique(ner_non_unique)\n",
    "words = sorted(words)\n",
    "ner = sorted(ner)\n",
    "\n",
    "# Development\n",
    "words_non_unique_dev = [word.lower() for sentece in X_dev_symbs for word in sentece]\n",
    "words_dev = np.unique(words_non_unique_dev)\n",
    "ner_non_unique_dev = [word for sentece in Y_dev_symbs for word in sentece]\n",
    "ner_dev = np.unique(ner_non_unique_dev)\n",
    "words_dev = sorted(words_dev)\n",
    "ner_dev = sorted(ner_dev)\n"
   ],
   "outputs": [
    {
     "output_type": "stream",
     "name": "stdout",
     "text": [
      "204567\n"
     ]
    }
   ],
   "metadata": {}
  },
  {
   "cell_type": "code",
   "execution_count": 225,
   "source": [
    "print('# words seen in training corpus:', len(words))\n",
    "print('# NER tags seen:', len(ner))"
   ],
   "outputs": [
    {
     "output_type": "stream",
     "name": "stdout",
     "text": [
      "# words seen in training corpus: 21010\n",
      "# NER tags seen: 8\n"
     ]
    }
   ],
   "metadata": {}
  },
  {
   "cell_type": "markdown",
   "source": [
    "Then, merge the list of unique CoNLL words with the words in the embedding file. You will sort this list"
   ],
   "metadata": {}
  },
  {
   "cell_type": "code",
   "execution_count": 226,
   "source": [
    "# Write your code: Add vocabulary of embedded words\n",
    "vocabulary_words = np.unique(np.concatenate((np.array(embedded_words), words), axis=0))\n",
    "vocabulary_words_dev = np.unique(np.concatenate((np.array(embedded_words), words_dev), axis=0))"
   ],
   "outputs": [],
   "metadata": {}
  },
  {
   "cell_type": "code",
   "execution_count": 227,
   "source": [
    "print('# words in the vocabulary: embeddings and corpus:', len(vocabulary_words))"
   ],
   "outputs": [
    {
     "output_type": "stream",
     "name": "stdout",
     "text": [
      "# words in the vocabulary: embeddings and corpus: 402595\n"
     ]
    }
   ],
   "metadata": {}
  },
  {
   "cell_type": "markdown",
   "source": [
    "## Index"
   ],
   "metadata": {}
  },
  {
   "cell_type": "markdown",
   "source": [
    "Create indices `word2idx`, `ner2idx` and inverted indices `idx2word`, `idx2ner` for the words and the NER: i.e. you will associate each word with a number. You will use index 0 for the padding symbol and 1 for unknown words. This means that your first word will start at index 2."
   ],
   "metadata": {}
  },
  {
   "cell_type": "code",
   "execution_count": 228,
   "source": [
    "# Write your code:\n",
    "word2idx = {}\n",
    "for i, word in enumerate(vocabulary_words):\n",
    "    word2idx[word] = i+2\n",
    "idx2word = {idx: word for word, idx in word2idx.items()}\n",
    "ner2idx = {}\n",
    "for i, nert in enumerate(ner):\n",
    "    ner2idx[nert] = i+2\n",
    "idx2ner = {idx: nert for nert, idx in ner2idx.items()}\n",
    "\n",
    "\n",
    "word2idx_dev = {}\n",
    "for i, word in enumerate(vocabulary_words_dev):\n",
    "    word2idx_dev[word] = i+2\n",
    "idx2word_dev = {idx: word for word, idx in word2idx_dev.items()}\n",
    "ner2idx_dev = {}\n",
    "for i, nert in enumerate(ner):\n",
    "    ner2idx_dev[nert] = i+2\n",
    "idx2ner_dev = {idx: nert for nert, idx in ner2idx_dev.items()}"
   ],
   "outputs": [],
   "metadata": {}
  },
  {
   "cell_type": "markdown",
   "source": [
    "The word indices"
   ],
   "metadata": {}
  },
  {
   "cell_type": "code",
   "execution_count": 229,
   "source": [
    "print(list(word2idx.items())[:25])      "
   ],
   "outputs": [
    {
     "output_type": "stream",
     "name": "stdout",
     "text": [
      "[('!', 2), ('!!', 3), ('!!!', 4), ('!!!!', 5), ('!!!!!', 6), ('!?', 7), ('!?!', 8), ('\"', 9), ('#', 10), ('##', 11), ('###', 12), ('#a', 13), ('#aabccc', 14), ('#b', 15), ('#c', 16), ('#cc', 17), ('#ccc', 18), ('#cccccc', 19), ('#ccccff', 20), ('#d', 21), ('#daa', 22), ('#dcdcdc', 23), ('#e', 24), ('#f', 25), ('#faf', 26)]\n"
     ]
    }
   ],
   "metadata": {}
  },
  {
   "cell_type": "markdown",
   "source": [
    "The NER tag indices"
   ],
   "metadata": {}
  },
  {
   "cell_type": "code",
   "execution_count": 230,
   "source": [
    "list(ner2idx.items())"
   ],
   "outputs": [
    {
     "output_type": "execute_result",
     "data": {
      "text/plain": [
       "[('B-LOC', 2),\n",
       " ('B-MISC', 3),\n",
       " ('B-ORG', 4),\n",
       " ('I-LOC', 5),\n",
       " ('I-MISC', 6),\n",
       " ('I-ORG', 7),\n",
       " ('I-PER', 8),\n",
       " ('O', 9)]"
      ]
     },
     "metadata": {},
     "execution_count": 230
    }
   ],
   "metadata": {}
  },
  {
   "cell_type": "markdown",
   "source": [
    "## Embedding Matrix"
   ],
   "metadata": {}
  },
  {
   "cell_type": "markdown",
   "source": [
    "Create a matrix of dimensions $(M, N)$, where $M$ will be the size of the vocabulary: The unique words in the training set and the words in GloVe, and $N$, the dimension of the embeddings.\n",
    "The padding symbol and the unknown word symbol will be part of the vocabulary at respectively index 0 and 1. \n",
    "\n",
    "Initialize the matrix with random values with the `np.random.uniform()`"
   ],
   "metadata": {}
  },
  {
   "cell_type": "code",
   "execution_count": 231,
   "source": [
    "# Write your code here\n",
    "embedding_matrix = np.full((len(vocabulary_words)+2,len(embeddings_dict['hello'])),np.random.uniform())"
   ],
   "outputs": [],
   "metadata": {}
  },
  {
   "cell_type": "markdown",
   "source": [
    "The shape of your matrix should be: (402597, 100)."
   ],
   "metadata": {}
  },
  {
   "cell_type": "code",
   "execution_count": 232,
   "source": [
    "embedding_matrix.shape"
   ],
   "outputs": [
    {
     "output_type": "execute_result",
     "data": {
      "text/plain": [
       "(402597, 100)"
      ]
     },
     "metadata": {},
     "execution_count": 232
    }
   ],
   "metadata": {}
  },
  {
   "cell_type": "markdown",
   "source": [
    "Fill the matrix with the GloVe embeddings when available. You will use the indices from the previous section. You will call `out_of_embeddings` the list of words in CoNLL, but not in the embedding list."
   ],
   "metadata": {}
  },
  {
   "cell_type": "code",
   "execution_count": 233,
   "source": [
    "# Write your code\n",
    "out_of_embeddings = []\n",
    "for i, word in enumerate(vocabulary_words):\n",
    "    if idx2word[i+2] not in embeddings_dict:\n",
    "         out_of_embeddings.append(idx2word[i+2])\n",
    "    else:\n",
    "        embedding_matrix[i+2] = embeddings_dict[idx2word[i+2]]"
   ],
   "outputs": [],
   "metadata": {}
  },
  {
   "cell_type": "code",
   "execution_count": 234,
   "source": [
    "len(out_of_embeddings)"
   ],
   "outputs": [
    {
     "output_type": "execute_result",
     "data": {
      "text/plain": [
       "2595"
      ]
     },
     "metadata": {},
     "execution_count": 234
    }
   ],
   "metadata": {}
  },
  {
   "cell_type": "code",
   "execution_count": 235,
   "source": [
    "out_of_embeddings[-10:]"
   ],
   "outputs": [
    {
     "output_type": "execute_result",
     "data": {
      "text/plain": [
       "['zelezarny',\n",
       " 'zhilan',\n",
       " 'zieger',\n",
       " 'zighayer',\n",
       " 'zilinskiene',\n",
       " 'zirka-nibas',\n",
       " 'zuleeg',\n",
       " 'zundra',\n",
       " 'zwingmann',\n",
       " 'zyrecha']"
      ]
     },
     "metadata": {},
     "execution_count": 235
    }
   ],
   "metadata": {}
  },
  {
   "cell_type": "markdown",
   "source": [
    "Embeddings of the padding symbol, idx 0, random numbers"
   ],
   "metadata": {}
  },
  {
   "cell_type": "code",
   "execution_count": 236,
   "source": [
    "embedding_matrix[0][:10]"
   ],
   "outputs": [
    {
     "output_type": "execute_result",
     "data": {
      "text/plain": [
       "array([0.6839791, 0.6839791, 0.6839791, 0.6839791, 0.6839791, 0.6839791,\n",
       "       0.6839791, 0.6839791, 0.6839791, 0.6839791])"
      ]
     },
     "metadata": {},
     "execution_count": 236
    }
   ],
   "metadata": {}
  },
  {
   "cell_type": "markdown",
   "source": [
    "Embeddings of the word _table_, the GloVe values"
   ],
   "metadata": {}
  },
  {
   "cell_type": "code",
   "execution_count": 237,
   "source": [
    "embedding_matrix[word2idx['table']][:10]"
   ],
   "outputs": [
    {
     "output_type": "execute_result",
     "data": {
      "text/plain": [
       "array([-0.61453998,  0.89692998,  0.56770998,  0.39102   , -0.22437   ,\n",
       "        0.49035001,  0.10868   ,  0.27410999, -0.23833001, -0.52152997])"
      ]
     },
     "metadata": {},
     "execution_count": 237
    }
   ],
   "metadata": {}
  },
  {
   "cell_type": "markdown",
   "source": [
    "Embeddings of _zwingmann_, a word in CoNLL 2003, but not in GloVe, random numbers"
   ],
   "metadata": {}
  },
  {
   "cell_type": "code",
   "execution_count": 238,
   "source": [
    "embedding_matrix[word2idx['zwingmann']][:10]"
   ],
   "outputs": [
    {
     "output_type": "execute_result",
     "data": {
      "text/plain": [
       "array([0.6839791, 0.6839791, 0.6839791, 0.6839791, 0.6839791, 0.6839791,\n",
       "       0.6839791, 0.6839791, 0.6839791, 0.6839791])"
      ]
     },
     "metadata": {},
     "execution_count": 238
    }
   ],
   "metadata": {}
  },
  {
   "cell_type": "markdown",
   "source": [
    "## Creating the $\\mathbf{X}$ and $\\mathbf{Y}$ Sequences"
   ],
   "metadata": {}
  },
  {
   "cell_type": "markdown",
   "source": [
    "You will now create the input and output sequences with numerical indices. First, convert the $\\mathbf{X}_\\text{_train_symbs}$ and $\\mathbf{Y}_\\text{_train_symbs}$ lists of symbols in lists of numbers using the indices you created. Call them `X_train_idx` and `Y_train_idx`."
   ],
   "metadata": {}
  },
  {
   "cell_type": "code",
   "execution_count": 239,
   "source": [
    "# Write your code\n",
    "# We create the parallel sequences of indexes\n",
    "#print(X_train_symbs)\n",
    "#print(out_of_embeddings)\n",
    "X_train_idx = []\n",
    "Y_train_idx = []\n",
    "for sentence in X_train_symbs:\n",
    "    t = []\n",
    "    for word in sentence:\n",
    "        t.append(word2idx[word.lower()])\n",
    "    X_train_idx.append(t)\n",
    "for sentence in Y_train_symbs:\n",
    "    t = []\n",
    "    for nert in sentence:\n",
    "        t.append(ner2idx[nert])\n",
    "    Y_train_idx.append(t)\n",
    "\n",
    "X_dev_idx = []\n",
    "Y_dev_idx = []\n",
    "for sentence in X_dev_symbs:\n",
    "    t = []\n",
    "    for word in sentence:\n",
    "        t.append(word2idx_dev[word.lower()])\n",
    "    X_dev_idx.append(t)\n",
    "for sentence in Y_dev_symbs:\n",
    "    t = []\n",
    "    for nert in sentence:\n",
    "        t.append(ner2idx_dev[nert])\n",
    "    Y_dev_idx.append(t)\n"
   ],
   "outputs": [],
   "metadata": {}
  },
  {
   "cell_type": "markdown",
   "source": [
    "Word indices of the three first sentences"
   ],
   "metadata": {}
  },
  {
   "cell_type": "code",
   "execution_count": 240,
   "source": [
    "X_train_idx[:3]"
   ],
   "outputs": [
    {
     "output_type": "execute_result",
     "data": {
      "text/plain": [
       "[[935],\n",
       " [142143, 307143, 161836, 91321, 363368, 83766, 85852, 218260, 936],\n",
       " [284434, 79019]]"
      ]
     },
     "metadata": {},
     "execution_count": 240
    }
   ],
   "metadata": {}
  },
  {
   "cell_type": "markdown",
   "source": [
    "NER tag indices of the three first sentences"
   ],
   "metadata": {}
  },
  {
   "cell_type": "code",
   "execution_count": 241,
   "source": [
    "Y_train_idx[:3]"
   ],
   "outputs": [
    {
     "output_type": "execute_result",
     "data": {
      "text/plain": [
       "[[9], [7, 9, 6, 9, 9, 9, 6, 9, 9], [8, 8]]"
      ]
     },
     "metadata": {},
     "execution_count": 241
    }
   ],
   "metadata": {}
  },
  {
   "cell_type": "markdown",
   "source": [
    "Now, pad the sentences using the `pad_sequences` function from Keras. As maximum length and `maxlen` argument, you will use 150 or greater. What matters is that you have a length that is larger than the maximum length observed in your training and development corpora. After padding, the second sentence you look like (the indices are not necessarily the same).\n",
    "```\n",
    "x = [142143 307143 161836  91321 363368  83766  85852 218260    936      0\n",
    "      0      0      0      0      0      0      0      0      0      0\n",
    "      0      0      0      0      0      0      0      0      0      0\n",
    "      0      0      0      0      0      0      0      0      0      0\n",
    "      0      0      0      0      0      0      0      0      0      0\n",
    "      0      0      0      0      0      0      0      0      0      0\n",
    "      0      0      0      0      0      0      0      0      0      0\n",
    "      0      0      0      0      0      0      0      0      0      0\n",
    "      0      0      0      0      0      0      0      0      0      0\n",
    "      0      0      0      0      0      0      0      0      0      0\n",
    "      0      0      0      0      0      0      0      0      0      0\n",
    "      0      0      0      0      0      0      0      0      0      0\n",
    "      0      0      0      0      0      0      0      0      0      0\n",
    "      0      0      0      0      0      0      0      0      0      0\n",
    "      0      0      0      0      0      0      0      0      0      0]\n",
    "y = [7 9 6 9 9 9 6 9 9 0 0 0 0 0 0 0 0 0 0 0 0 0 0 0 0 0 0 0 0 0 0 0 0 0 0 0 0\n",
    " 0 0 0 0 0 0 0 0 0 0 0 0 0 0 0 0 0 0 0 0 0 0 0 0 0 0 0 0 0 0 0 0 0 0 0 0 0\n",
    " 0 0 0 0 0 0 0 0 0 0 0 0 0 0 0 0 0 0 0 0 0 0 0 0 0 0 0 0 0 0 0 0 0 0 0 0 0\n",
    " 0 0 0 0 0 0 0 0 0 0 0 0 0 0 0 0 0 0 0 0 0 0 0 0 0 0 0 0 0 0 0 0 0 0 0 0 0\n",
    " 0 0]\n",
    "```\n",
    "\n",
    "You will call the results `X_train_padded` and `Y_train_padded`."
   ],
   "metadata": {}
  },
  {
   "cell_type": "code",
   "execution_count": 242,
   "source": [
    "# Write your code\n",
    "from keras.preprocessing.sequence import pad_sequences\n",
    "X_train_padded = pad_sequences(X_train_idx, value=0, maxlen=150, padding='post')\n",
    "Y_train_padded = pad_sequences(Y_train_idx, value=0, maxlen=150, padding='post')\n",
    "\n",
    "X_dev_padded = pad_sequences(X_dev_idx, value=0, maxlen=150, padding='post')\n",
    "Y_dev_padded = pad_sequences(Y_dev_idx, value=0, maxlen=150, padding='post')\n"
   ],
   "outputs": [],
   "metadata": {}
  },
  {
   "cell_type": "code",
   "execution_count": 243,
   "source": [
    "X_train_padded[1]"
   ],
   "outputs": [
    {
     "output_type": "execute_result",
     "data": {
      "text/plain": [
       "array([142143, 307143, 161836,  91321, 363368,  83766,  85852, 218260,\n",
       "          936,      0,      0,      0,      0,      0,      0,      0,\n",
       "            0,      0,      0,      0,      0,      0,      0,      0,\n",
       "            0,      0,      0,      0,      0,      0,      0,      0,\n",
       "            0,      0,      0,      0,      0,      0,      0,      0,\n",
       "            0,      0,      0,      0,      0,      0,      0,      0,\n",
       "            0,      0,      0,      0,      0,      0,      0,      0,\n",
       "            0,      0,      0,      0,      0,      0,      0,      0,\n",
       "            0,      0,      0,      0,      0,      0,      0,      0,\n",
       "            0,      0,      0,      0,      0,      0,      0,      0,\n",
       "            0,      0,      0,      0,      0,      0,      0,      0,\n",
       "            0,      0,      0,      0,      0,      0,      0,      0,\n",
       "            0,      0,      0,      0,      0,      0,      0,      0,\n",
       "            0,      0,      0,      0,      0,      0,      0,      0,\n",
       "            0,      0,      0,      0,      0,      0,      0,      0,\n",
       "            0,      0,      0,      0,      0,      0,      0,      0,\n",
       "            0,      0,      0,      0,      0,      0,      0,      0,\n",
       "            0,      0,      0,      0,      0,      0,      0,      0,\n",
       "            0,      0,      0,      0,      0,      0], dtype=int32)"
      ]
     },
     "metadata": {},
     "execution_count": 243
    }
   ],
   "metadata": {}
  },
  {
   "cell_type": "code",
   "execution_count": 244,
   "source": [
    "Y_train_padded[1]"
   ],
   "outputs": [
    {
     "output_type": "execute_result",
     "data": {
      "text/plain": [
       "array([7, 9, 6, 9, 9, 9, 6, 9, 9, 0, 0, 0, 0, 0, 0, 0, 0, 0, 0, 0, 0, 0,\n",
       "       0, 0, 0, 0, 0, 0, 0, 0, 0, 0, 0, 0, 0, 0, 0, 0, 0, 0, 0, 0, 0, 0,\n",
       "       0, 0, 0, 0, 0, 0, 0, 0, 0, 0, 0, 0, 0, 0, 0, 0, 0, 0, 0, 0, 0, 0,\n",
       "       0, 0, 0, 0, 0, 0, 0, 0, 0, 0, 0, 0, 0, 0, 0, 0, 0, 0, 0, 0, 0, 0,\n",
       "       0, 0, 0, 0, 0, 0, 0, 0, 0, 0, 0, 0, 0, 0, 0, 0, 0, 0, 0, 0, 0, 0,\n",
       "       0, 0, 0, 0, 0, 0, 0, 0, 0, 0, 0, 0, 0, 0, 0, 0, 0, 0, 0, 0, 0, 0,\n",
       "       0, 0, 0, 0, 0, 0, 0, 0, 0, 0, 0, 0, 0, 0, 0, 0, 0, 0], dtype=int32)"
      ]
     },
     "metadata": {},
     "execution_count": 244
    }
   ],
   "metadata": {}
  },
  {
   "cell_type": "markdown",
   "source": [
    "Convert the indices in the $\\mathbf{Y}_\\text{train_padded}$ vector into one-hot encoded vectors. Call the result `Y_train_padded_vectorized`"
   ],
   "metadata": {}
  },
  {
   "cell_type": "code",
   "execution_count": 245,
   "source": [
    "# Write your code\n",
    "from keras.utils.np_utils import to_categorical\n",
    "# The number of POS classes and 0 (padding symbol)\n",
    "# and a possible new POS symbol in the test set\n",
    "print(Y_train_padded.shape)\n",
    "Y_train_padded_vectorized = []\n",
    "temp_vec = []\n",
    "for sentence in Y_train_padded:\n",
    "    temp_vec = np.zeros((sentence.size, sentence.max()+1))\n",
    "    temp_vec[np.arange(sentence.size),sentence] = 1\n",
    "    Y_train_padded_vectorized.append(temp_vec)"
   ],
   "outputs": [
    {
     "output_type": "stream",
     "name": "stdout",
     "text": [
      "(14987, 150)\n"
     ]
    }
   ],
   "metadata": {}
  },
  {
   "cell_type": "code",
   "execution_count": 246,
   "source": [
    "Y_train_padded_vectorized[1][:10]"
   ],
   "outputs": [
    {
     "output_type": "execute_result",
     "data": {
      "text/plain": [
       "array([[0., 0., 0., 0., 0., 0., 0., 1., 0., 0.],\n",
       "       [0., 0., 0., 0., 0., 0., 0., 0., 0., 1.],\n",
       "       [0., 0., 0., 0., 0., 0., 1., 0., 0., 0.],\n",
       "       [0., 0., 0., 0., 0., 0., 0., 0., 0., 1.],\n",
       "       [0., 0., 0., 0., 0., 0., 0., 0., 0., 1.],\n",
       "       [0., 0., 0., 0., 0., 0., 0., 0., 0., 1.],\n",
       "       [0., 0., 0., 0., 0., 0., 1., 0., 0., 0.],\n",
       "       [0., 0., 0., 0., 0., 0., 0., 0., 0., 1.],\n",
       "       [0., 0., 0., 0., 0., 0., 0., 0., 0., 1.],\n",
       "       [1., 0., 0., 0., 0., 0., 0., 0., 0., 0.]])"
      ]
     },
     "metadata": {},
     "execution_count": 246
    }
   ],
   "metadata": {}
  },
  {
   "cell_type": "markdown",
   "source": [
    "Do the same for the development set: Build the sequences, map them to indices, pad them, and create the $\\mathbf{Y}$ vectors"
   ],
   "metadata": {}
  },
  {
   "cell_type": "code",
   "execution_count": 302,
   "source": [
    "# Write your code\n",
    "Y_dev_padded_vectorized = []\n",
    "temp_vec_dev = []\n",
    "for sentence in Y_dev_padded:\n",
    "    temp_vec_dev = np.zeros((sentence.size, sentence.max()+1))\n",
    "    temp_vec_dev[np.arange(sentence.size),sentence] = 1\n",
    "    Y_dev_padded_vectorized.append(temp_vec_dev)"
   ],
   "outputs": [],
   "metadata": {}
  },
  {
   "cell_type": "markdown",
   "source": [
    "## Building a Simple Recurrent Neural Network"
   ],
   "metadata": {}
  },
  {
   "cell_type": "markdown",
   "source": [
    "Create a simple recurrent network and train a model (`model1`) with the training set. As layers, you will use `Embedding`, `SimpleRNN`, and `Dense`."
   ],
   "metadata": {}
  },
  {
   "cell_type": "code",
   "execution_count": 303,
   "source": [
    "# Write your code\n",
    "from keras.initializers import Constant\n",
    "model1 = Sequential([\n",
    "    Embedding(len(vocabulary_words) + 2, 100, \n",
    "    embeddings_initializer = Constant(embedding_matrix),\n",
    "    trainable = False, \n",
    "    mask_zero = True),\n",
    "    SimpleRNN(units=LSTM_UNITS, return_sequences=True),\n",
    "    Dense(10, activation=\"softmax\")])\n"
   ],
   "outputs": [],
   "metadata": {}
  },
  {
   "cell_type": "markdown",
   "source": [
    "Compile your network. "
   ],
   "metadata": {}
  },
  {
   "cell_type": "code",
   "execution_count": 304,
   "source": [
    "# Write your code\n",
    "model1.compile(loss=\"binary_crossentropy\",\n",
    "              optimizer='adam',\n",
    "              metrics=[\"accuracy\"])"
   ],
   "outputs": [],
   "metadata": {}
  },
  {
   "cell_type": "code",
   "execution_count": 305,
   "source": [
    "model1.summary()"
   ],
   "outputs": [
    {
     "output_type": "stream",
     "name": "stdout",
     "text": [
      "Model: \"sequential_18\"\n",
      "_________________________________________________________________\n",
      "Layer (type)                 Output Shape              Param #   \n",
      "=================================================================\n",
      "embedding_19 (Embedding)     (None, None, 100)         40259700  \n",
      "_________________________________________________________________\n",
      "simple_rnn_13 (SimpleRNN)    (None, None, 100)         20100     \n",
      "_________________________________________________________________\n",
      "dense_13 (Dense)             (None, None, 10)          1010      \n",
      "=================================================================\n",
      "Total params: 40,280,810\n",
      "Trainable params: 21,110\n",
      "Non-trainable params: 40,259,700\n",
      "_________________________________________________________________\n"
     ]
    }
   ],
   "metadata": {}
  },
  {
   "cell_type": "markdown",
   "source": [
    "Write a callback to store your best model using the validation loss. Name your file: `simple_rnn.keras`."
   ],
   "metadata": {}
  },
  {
   "cell_type": "code",
   "execution_count": 306,
   "source": [
    "# Write your code\n",
    "from tensorflow import keras\n",
    "callbacks = [\n",
    "    keras.callbacks.ModelCheckpoint(\n",
    "        filepath=\"simple_rnn.keras\",\n",
    "        save_best_only=True,\n",
    "        monitor=\"val_loss\")\n",
    "]\n"
   ],
   "outputs": [],
   "metadata": {}
  },
  {
   "cell_type": "code",
   "execution_count": 315,
   "source": [
    "print(X_train_padded.shape)"
   ],
   "outputs": [
    {
     "output_type": "stream",
     "name": "stdout",
     "text": [
      "(14987, 150)\n"
     ]
    }
   ],
   "metadata": {}
  },
  {
   "cell_type": "markdown",
   "source": [
    "Fit it"
   ],
   "metadata": {}
  },
  {
   "cell_type": "code",
   "execution_count": 314,
   "source": [
    "# Write your code\n",
    "\n",
    "\n",
    "history = model1.fit(\n",
    "    x=list(X_train_padded),\n",
    "    y=list(Y_train_padded_vectorized),\n",
    "    epochs=EPOCHS,\n",
    "    validation_data=(list(X_dev_padded), list(Y_dev_padded_vectorized)),\n",
    "    callbacks=callbacks)"
   ],
   "outputs": [
    {
     "output_type": "error",
     "ename": "ValueError",
     "evalue": "Error when checking model input: the list of Numpy arrays that you are passing to your model is not the size the model expected. Expected to see 1 array(s), but instead got the following list of 14987 arrays: [array([[935],\n       [  0],\n       [  0],\n       [  0],\n       [  0],\n       [  0],\n       [  0],\n       [  0],\n       [  0],\n       [  0],\n       [  0],\n       [  0],\n       [  0],\n       [  0],\n   ...",
     "traceback": [
      "\u001b[0;31m---------------------------------------------------------------------------\u001b[0m",
      "\u001b[0;31mValueError\u001b[0m                                Traceback (most recent call last)",
      "\u001b[0;32m<ipython-input-314-6bae0fd49179>\u001b[0m in \u001b[0;36m<module>\u001b[0;34m\u001b[0m\n\u001b[1;32m      4\u001b[0m     \u001b[0my\u001b[0m\u001b[0;34m=\u001b[0m\u001b[0mlist\u001b[0m\u001b[0;34m(\u001b[0m\u001b[0mY_train_padded_vectorized\u001b[0m\u001b[0;34m)\u001b[0m\u001b[0;34m,\u001b[0m\u001b[0;34m\u001b[0m\u001b[0;34m\u001b[0m\u001b[0m\n\u001b[1;32m      5\u001b[0m     \u001b[0mepochs\u001b[0m\u001b[0;34m=\u001b[0m\u001b[0mEPOCHS\u001b[0m\u001b[0;34m,\u001b[0m\u001b[0;34m\u001b[0m\u001b[0;34m\u001b[0m\u001b[0m\n\u001b[0;32m----> 6\u001b[0;31m     callbacks=callbacks)\n\u001b[0m",
      "\u001b[0;32m/usr/local/anaconda3/lib/python3.7/site-packages/keras/engine/training.py\u001b[0m in \u001b[0;36mfit\u001b[0;34m(self, x, y, batch_size, epochs, verbose, callbacks, validation_split, validation_data, shuffle, class_weight, sample_weight, initial_epoch, steps_per_epoch, validation_steps, validation_freq, max_queue_size, workers, use_multiprocessing, **kwargs)\u001b[0m\n\u001b[1;32m   1152\u001b[0m             \u001b[0msample_weight\u001b[0m\u001b[0;34m=\u001b[0m\u001b[0msample_weight\u001b[0m\u001b[0;34m,\u001b[0m\u001b[0;34m\u001b[0m\u001b[0;34m\u001b[0m\u001b[0m\n\u001b[1;32m   1153\u001b[0m             \u001b[0mclass_weight\u001b[0m\u001b[0;34m=\u001b[0m\u001b[0mclass_weight\u001b[0m\u001b[0;34m,\u001b[0m\u001b[0;34m\u001b[0m\u001b[0;34m\u001b[0m\u001b[0m\n\u001b[0;32m-> 1154\u001b[0;31m             batch_size=batch_size)\n\u001b[0m\u001b[1;32m   1155\u001b[0m \u001b[0;34m\u001b[0m\u001b[0m\n\u001b[1;32m   1156\u001b[0m         \u001b[0;31m# Prepare validation data.\u001b[0m\u001b[0;34m\u001b[0m\u001b[0;34m\u001b[0m\u001b[0;34m\u001b[0m\u001b[0m\n",
      "\u001b[0;32m/usr/local/anaconda3/lib/python3.7/site-packages/keras/engine/training.py\u001b[0m in \u001b[0;36m_standardize_user_data\u001b[0;34m(self, x, y, sample_weight, class_weight, check_array_lengths, batch_size)\u001b[0m\n\u001b[1;32m    577\u001b[0m             \u001b[0mfeed_input_shapes\u001b[0m\u001b[0;34m,\u001b[0m\u001b[0;34m\u001b[0m\u001b[0;34m\u001b[0m\u001b[0m\n\u001b[1;32m    578\u001b[0m             \u001b[0mcheck_batch_axis\u001b[0m\u001b[0;34m=\u001b[0m\u001b[0;32mFalse\u001b[0m\u001b[0;34m,\u001b[0m  \u001b[0;31m# Don't enforce the batch size.\u001b[0m\u001b[0;34m\u001b[0m\u001b[0;34m\u001b[0m\u001b[0m\n\u001b[0;32m--> 579\u001b[0;31m             exception_prefix='input')\n\u001b[0m\u001b[1;32m    580\u001b[0m \u001b[0;34m\u001b[0m\u001b[0m\n\u001b[1;32m    581\u001b[0m         \u001b[0;32mif\u001b[0m \u001b[0my\u001b[0m \u001b[0;32mis\u001b[0m \u001b[0;32mnot\u001b[0m \u001b[0;32mNone\u001b[0m\u001b[0;34m:\u001b[0m\u001b[0;34m\u001b[0m\u001b[0;34m\u001b[0m\u001b[0m\n",
      "\u001b[0;32m/usr/local/anaconda3/lib/python3.7/site-packages/keras/engine/training_utils.py\u001b[0m in \u001b[0;36mstandardize_input_data\u001b[0;34m(data, names, shapes, check_batch_axis, exception_prefix)\u001b[0m\n\u001b[1;32m    107\u001b[0m                 \u001b[0;34m'Expected to see '\u001b[0m \u001b[0;34m+\u001b[0m \u001b[0mstr\u001b[0m\u001b[0;34m(\u001b[0m\u001b[0mlen\u001b[0m\u001b[0;34m(\u001b[0m\u001b[0mnames\u001b[0m\u001b[0;34m)\u001b[0m\u001b[0;34m)\u001b[0m \u001b[0;34m+\u001b[0m \u001b[0;34m' array(s), '\u001b[0m\u001b[0;34m\u001b[0m\u001b[0;34m\u001b[0m\u001b[0m\n\u001b[1;32m    108\u001b[0m                 \u001b[0;34m'but instead got the following list of '\u001b[0m \u001b[0;34m+\u001b[0m\u001b[0;34m\u001b[0m\u001b[0;34m\u001b[0m\u001b[0m\n\u001b[0;32m--> 109\u001b[0;31m                 str(len(data)) + ' arrays: ' + str(data)[:200] + '...')\n\u001b[0m\u001b[1;32m    110\u001b[0m         \u001b[0;32melif\u001b[0m \u001b[0mlen\u001b[0m\u001b[0;34m(\u001b[0m\u001b[0mnames\u001b[0m\u001b[0;34m)\u001b[0m \u001b[0;34m>\u001b[0m \u001b[0;36m1\u001b[0m\u001b[0;34m:\u001b[0m\u001b[0;34m\u001b[0m\u001b[0;34m\u001b[0m\u001b[0m\n\u001b[1;32m    111\u001b[0m             raise ValueError(\n",
      "\u001b[0;31mValueError\u001b[0m: Error when checking model input: the list of Numpy arrays that you are passing to your model is not the size the model expected. Expected to see 1 array(s), but instead got the following list of 14987 arrays: [array([[935],\n       [  0],\n       [  0],\n       [  0],\n       [  0],\n       [  0],\n       [  0],\n       [  0],\n       [  0],\n       [  0],\n       [  0],\n       [  0],\n       [  0],\n       [  0],\n   ..."
     ]
    }
   ],
   "metadata": {}
  },
  {
   "cell_type": "markdown",
   "source": [
    "Create a figure to show the training and validation losses and accuracies and comment on a possible overfit."
   ],
   "metadata": {}
  },
  {
   "cell_type": "code",
   "execution_count": 308,
   "source": [
    "# Write your code\n"
   ],
   "outputs": [],
   "metadata": {}
  },
  {
   "cell_type": "markdown",
   "source": [
    "Reload your best model"
   ],
   "metadata": {}
  },
  {
   "cell_type": "code",
   "execution_count": null,
   "source": [
    "# Write your code\n"
   ],
   "outputs": [],
   "metadata": {}
  },
  {
   "cell_type": "markdown",
   "source": [
    "You will apply your network to one sentence."
   ],
   "metadata": {}
  },
  {
   "cell_type": "code",
   "execution_count": null,
   "source": [
    "sentence = 'The United States might collapsez'.lower().split()"
   ],
   "outputs": [],
   "metadata": {}
  },
  {
   "cell_type": "markdown",
   "source": [
    "First convert the sentence into indices"
   ],
   "metadata": {}
  },
  {
   "cell_type": "code",
   "execution_count": null,
   "source": [
    "# Write your code\n"
   ],
   "outputs": [
    {
     "output_type": "stream",
     "name": "stdout",
     "text": [
      "Sentence ['the', 'united', 'states', 'might', 'collapsez']\n",
      "Sentence word indexes [359698, 374678, 344404, 246008, 1]\n"
     ]
    }
   ],
   "metadata": {}
  },
  {
   "cell_type": "markdown",
   "source": [
    "Apply the prediction"
   ],
   "metadata": {}
  },
  {
   "cell_type": "code",
   "execution_count": null,
   "source": [
    "# Write your code\n"
   ],
   "outputs": [],
   "metadata": {}
  },
  {
   "cell_type": "code",
   "execution_count": null,
   "source": [
    "sent_ner_predictions.shape"
   ],
   "outputs": [
    {
     "output_type": "execute_result",
     "data": {
      "text/plain": [
       "(1, 5, 10)"
      ]
     },
     "metadata": {},
     "execution_count": 54
    }
   ],
   "metadata": {}
  },
  {
   "cell_type": "markdown",
   "source": [
    "Decode the word and tag indices"
   ],
   "metadata": {}
  },
  {
   "cell_type": "code",
   "execution_count": null,
   "source": [
    "# Write your code\n"
   ],
   "outputs": [
    {
     "output_type": "stream",
     "name": "stdout",
     "text": [
      "the: O\n",
      "united: I-LOC\n",
      "states: I-LOC\n",
      "might: O\n",
      "collapsez /ukn: O\n"
     ]
    }
   ],
   "metadata": {}
  },
  {
   "cell_type": "markdown",
   "source": [
    "## Evaluating your System"
   ],
   "metadata": {}
  },
  {
   "cell_type": "markdown",
   "source": [
    "You will now evaluate the performance of your system on the whole test set. You will use the official script.\n",
    "<ol>\n",
    "    <li>Use the <tt>predict</tt> method to predict the tags of the whole test set\n",
    "    </li>\n",
    "    <li>Write your results in a file, where the two last columns will be the hand-annotated tag\n",
    "        and the predicted tag. The fields must be separated by a space and each line must end with a new line:\n",
    "        <tt>\\n</tt>.\n",
    "    </li>\n",
    "    <li>\n",
    "        If you save your results on a Windows machine, Python will use the default end-of-line sequence: <tt>\\r\\n</tt>.\n",
    "        You will then need either to convert your file or to modify the way you save your file.\n",
    "    </li>\n",
    "    <li>Apply <tt>conlleval</tt> to your output. Report the F1 result.<br/>\n",
    "        Be aware that <tt>conlleval</tt> was designed for Unix and will break\n",
    "    with Windows end-of-line conventions.</li>\n",
    "    <li>Try to improve your model by modifying some parameters, adding layers, adding\n",
    "        <tt>Bidirectional</tt>\n",
    "        and <tt>Dropout</tt>.\n",
    "    </li>\n",
    "    <li>\n",
    "        Evaluate your network again\n",
    "    </li>\n",
    "</ol>"
   ],
   "metadata": {}
  },
  {
   "cell_type": "markdown",
   "source": [
    "First translate the input part of the test set, the words, into lists of words, `X_test_symbs`, lists of indices, `X_test_idx`, and a matrix of indices, where you will pad the sequences: `X_test_padded`"
   ],
   "metadata": {}
  },
  {
   "cell_type": "markdown",
   "source": [
    "The symbols"
   ],
   "metadata": {}
  },
  {
   "cell_type": "code",
   "execution_count": null,
   "source": [
    "# Test\n",
    "X_test_symbs, Y_test_symbs = build_sequences(test_dict, key_x='form', key_y='ner')\n",
    "print('X_test:', X_test_symbs[1])\n",
    "print('Y_test', Y_test_symbs[1])"
   ],
   "outputs": [
    {
     "output_type": "stream",
     "name": "stdout",
     "text": [
      "X_test: ['soccer', '-', 'japan', 'get', 'lucky', 'win', ',', 'china', 'in', 'surprise', 'defeat', '.']\n",
      "Y_test ['O', 'O', 'I-LOC', 'O', 'O', 'O', 'O', 'I-PER', 'O', 'O', 'O', 'O']\n"
     ]
    }
   ],
   "metadata": {}
  },
  {
   "cell_type": "markdown",
   "source": [
    "The indices"
   ],
   "metadata": {}
  },
  {
   "cell_type": "code",
   "execution_count": null,
   "source": [
    "# Write your code\n"
   ],
   "outputs": [],
   "metadata": {}
  },
  {
   "cell_type": "code",
   "execution_count": null,
   "source": [
    "print('X_test_idx:', X_test_idx[1])\n",
    "print('X_test_padded:', X_test_padded[1])"
   ],
   "outputs": [
    {
     "output_type": "stream",
     "name": "stdout",
     "text": [
      "X_test_idx: [338644, 679, 197600, 162137, 229067, 390518, 517, 100680, 190291, 350949, 120818, 936]\n",
      "X_test_padded: [338644    679 197600 162137 229067 390518    517 100680 190291 350949\n",
      " 120818    936      0      0      0      0      0      0      0      0\n",
      "      0      0      0      0      0      0      0      0      0      0\n",
      "      0      0      0      0      0      0      0      0      0      0\n",
      "      0      0      0      0      0      0      0      0      0      0\n",
      "      0      0      0      0      0      0      0      0      0      0\n",
      "      0      0      0      0      0      0      0      0      0      0\n",
      "      0      0      0      0      0      0      0      0      0      0\n",
      "      0      0      0      0      0      0      0      0      0      0\n",
      "      0      0      0      0      0      0      0      0      0      0\n",
      "      0      0      0      0      0      0      0      0      0      0\n",
      "      0      0      0      0      0      0      0      0      0      0\n",
      "      0      0      0      0      0      0      0      0      0      0\n",
      "      0      0      0      0      0      0      0      0      0      0\n",
      "      0      0      0      0      0      0      0      0      0      0]\n"
     ]
    }
   ],
   "metadata": {}
  },
  {
   "cell_type": "code",
   "execution_count": null,
   "source": [
    "X_test_padded.shape"
   ],
   "outputs": [
    {
     "output_type": "execute_result",
     "data": {
      "text/plain": [
       "(3684, 150)"
      ]
     },
     "metadata": {},
     "execution_count": 59
    }
   ],
   "metadata": {}
  },
  {
   "cell_type": "markdown",
   "source": [
    "Now predict the whole test set with `predict` and set the results in `Y_test_hat_probs`"
   ],
   "metadata": {}
  },
  {
   "cell_type": "code",
   "execution_count": null,
   "source": [
    "# Write your code\n",
    "# We evaluate on all the test corpus\n"
   ],
   "outputs": [],
   "metadata": {}
  },
  {
   "cell_type": "code",
   "execution_count": null,
   "source": [
    "print('Predictions', Y_test_hat_probs[1])"
   ],
   "outputs": [
    {
     "output_type": "stream",
     "name": "stdout",
     "text": [
      "Predictions [[1.2249970e-08 3.3408359e-08 1.0807129e-06 ... 3.2240015e-03\n",
      "  7.2276657e-06 9.9319553e-01]\n",
      " [2.2210155e-10 3.4949341e-10 1.5463007e-07 ... 3.4067221e-04\n",
      "  2.0880318e-04 9.9902940e-01]\n",
      " [9.7668869e-09 3.8468118e-09 1.6969406e-07 ... 3.4166221e-02\n",
      "  1.7162025e-03 8.0466941e-03]\n",
      " ...\n",
      " [3.3347903e-15 4.3808078e-15 3.3322396e-12 ... 3.3078271e-05\n",
      "  7.4312666e-06 9.9995351e-01]\n",
      " [3.3347903e-15 4.3808078e-15 3.3322396e-12 ... 3.3078271e-05\n",
      "  7.4312666e-06 9.9995351e-01]\n",
      " [3.3347903e-15 4.3808078e-15 3.3322396e-12 ... 3.3078271e-05\n",
      "  7.4312666e-06 9.9995351e-01]]\n"
     ]
    }
   ],
   "metadata": {}
  },
  {
   "cell_type": "markdown",
   "source": [
    "Extract the indices with the highest probabilities from the lists and convert them into NER values. Use the original length of each sentence to discard the padded part of `y` sequences. Add them with the `pner` key to the dictionaries in the `test_dict` list."
   ],
   "metadata": {}
  },
  {
   "cell_type": "code",
   "execution_count": null,
   "source": [
    "# write your code\n"
   ],
   "outputs": [],
   "metadata": {}
  },
  {
   "cell_type": "code",
   "execution_count": null,
   "source": [
    "test_dict[1]"
   ],
   "outputs": [
    {
     "output_type": "execute_result",
     "data": {
      "text/plain": [
       "[{'form': 'SOCCER', 'ppos': 'NN', 'pchunk': 'I-NP', 'ner': 'O', 'pner': 'O'},\n",
       " {'form': '-', 'ppos': ':', 'pchunk': 'O', 'ner': 'O', 'pner': 'O'},\n",
       " {'form': 'JAPAN',\n",
       "  'ppos': 'NNP',\n",
       "  'pchunk': 'I-NP',\n",
       "  'ner': 'I-LOC',\n",
       "  'pner': 'I-LOC'},\n",
       " {'form': 'GET', 'ppos': 'VB', 'pchunk': 'I-VP', 'ner': 'O', 'pner': 'O'},\n",
       " {'form': 'LUCKY', 'ppos': 'NNP', 'pchunk': 'I-NP', 'ner': 'O', 'pner': 'O'},\n",
       " {'form': 'WIN', 'ppos': 'NNP', 'pchunk': 'I-NP', 'ner': 'O', 'pner': 'O'},\n",
       " {'form': ',', 'ppos': ',', 'pchunk': 'O', 'ner': 'O', 'pner': 'O'},\n",
       " {'form': 'CHINA',\n",
       "  'ppos': 'NNP',\n",
       "  'pchunk': 'I-NP',\n",
       "  'ner': 'I-PER',\n",
       "  'pner': 'I-LOC'},\n",
       " {'form': 'IN', 'ppos': 'IN', 'pchunk': 'I-PP', 'ner': 'O', 'pner': 'O'},\n",
       " {'form': 'SURPRISE', 'ppos': 'DT', 'pchunk': 'I-NP', 'ner': 'O', 'pner': 'O'},\n",
       " {'form': 'DEFEAT', 'ppos': 'NN', 'pchunk': 'I-NP', 'ner': 'O', 'pner': 'O'},\n",
       " {'form': '.', 'ppos': '.', 'pchunk': 'O', 'ner': 'O', 'pner': 'O'}]"
      ]
     },
     "metadata": {},
     "execution_count": 63
    }
   ],
   "metadata": {}
  },
  {
   "cell_type": "code",
   "execution_count": null,
   "source": [
    "ARCH = '1'\n",
    "outfile = 'test' + ARCH + '.out'"
   ],
   "outputs": [],
   "metadata": {}
  },
  {
   "cell_type": "code",
   "execution_count": null,
   "source": [
    "column_names = ['form', 'ppos', 'pchunk', 'ner', 'pner']"
   ],
   "outputs": [],
   "metadata": {}
  },
  {
   "cell_type": "code",
   "execution_count": null,
   "source": [
    "def save(file, corpus_dict, column_names):\n",
    "    \"\"\"\n",
    "    Saves the corpus in a file\n",
    "    :param file:\n",
    "    :param corpus_dict:\n",
    "    :param column_names:\n",
    "    :return:\n",
    "    \"\"\"\n",
    "    i = 0\n",
    "    with open(file, 'w', encoding='utf8') as f_out:\n",
    "        i += 1\n",
    "        for sentence in corpus_dict:\n",
    "            sentence_lst = []\n",
    "            for row in sentence:\n",
    "                items = map(lambda x: row.get(x, '_'), column_names)\n",
    "                sentence_lst += ' '.join(items) + '\\n'\n",
    "            sentence_lst += '\\n'\n",
    "            f_out.write(''.join(sentence_lst))"
   ],
   "outputs": [],
   "metadata": {}
  },
  {
   "cell_type": "code",
   "execution_count": null,
   "source": [
    "save(outfile, test_dict, column_names)"
   ],
   "outputs": [],
   "metadata": {}
  },
  {
   "cell_type": "code",
   "execution_count": null,
   "source": [
    "lines = open(outfile, encoding='utf8').read().splitlines()\n",
    "res = conlleval.evaluate(lines)\n",
    "baseline_score = res['overall']['chunks']['evals']['f1']\n",
    "baseline_score"
   ],
   "outputs": [
    {
     "output_type": "execute_result",
     "data": {
      "text/plain": [
       "0.7406894162480513"
      ]
     },
     "metadata": {},
     "execution_count": 68
    }
   ],
   "metadata": {}
  },
  {
   "cell_type": "markdown",
   "source": [
    "## Building a LSTM Network"
   ],
   "metadata": {}
  },
  {
   "cell_type": "markdown",
   "source": [
    "1. Create a simple LSTM network and train a model with the train set. As layers, you will use <tt>Embedding</tt>, <tt>LSTM</tt>, and <tt>Dense</tt>.\n",
    "2. Apply conlleval to your output. Report the F1 result.\n",
    "3. Try to improve your model by modifying some parameters, adding layers, adding <tt>Bidirectional</tt>, <tt>Dropout</tt>, possibly mixing <tt>SimpleRNN</tt>.\n",
    "4. Apply your network to the test set and report the accuracy you obtained. you need to reach a F1 of 82 to pass."
   ],
   "metadata": {}
  },
  {
   "cell_type": "code",
   "execution_count": null,
   "source": [
    "# Write your code\n"
   ],
   "outputs": [],
   "metadata": {}
  },
  {
   "cell_type": "markdown",
   "source": [
    "Compile it"
   ],
   "metadata": {}
  },
  {
   "cell_type": "code",
   "execution_count": null,
   "source": [
    "# Write your code\n"
   ],
   "outputs": [],
   "metadata": {}
  },
  {
   "cell_type": "code",
   "execution_count": null,
   "source": [
    "model2.summary()"
   ],
   "outputs": [
    {
     "output_type": "stream",
     "name": "stdout",
     "text": [
      "Model: \"sequential_1\"\n",
      "_________________________________________________________________\n",
      " Layer (type)                Output Shape              Param #   \n",
      "=================================================================\n",
      " embedding_1 (Embedding)     (None, None, 100)         40259700  \n",
      "                                                                 \n",
      " dropout (Dropout)           (None, None, 100)         0         \n",
      "                                                                 \n",
      " bidirectional (Bidirectiona  (None, None, 200)        160800    \n",
      " l)                                                              \n",
      "                                                                 \n",
      " dropout_1 (Dropout)         (None, None, 200)         0         \n",
      "                                                                 \n",
      " dense_1 (Dense)             (None, None, 10)          2010      \n",
      "                                                                 \n",
      "=================================================================\n",
      "Total params: 40,422,510\n",
      "Trainable params: 40,422,510\n",
      "Non-trainable params: 0\n",
      "_________________________________________________________________\n"
     ]
    }
   ],
   "metadata": {}
  },
  {
   "cell_type": "markdown",
   "source": [
    "Write a callback to store your best model. Call it `lstm.keras`"
   ],
   "metadata": {}
  },
  {
   "cell_type": "code",
   "execution_count": null,
   "source": [
    "# Write your code\n",
    "from tensorflow import keras\n",
    "\n"
   ],
   "outputs": [],
   "metadata": {}
  },
  {
   "cell_type": "markdown",
   "source": [
    "Fit your model"
   ],
   "metadata": {}
  },
  {
   "cell_type": "code",
   "execution_count": null,
   "source": [
    "# Write your code\n"
   ],
   "outputs": [
    {
     "output_type": "stream",
     "name": "stdout",
     "text": [
      "Epoch 1/15\n",
      "469/469 [==============================] - 184s 385ms/step - loss: 0.0242 - accuracy: 0.9221 - val_loss: 0.0134 - val_accuracy: 0.9619\n",
      "Epoch 2/15\n",
      "469/469 [==============================] - 176s 375ms/step - loss: 0.0121 - accuracy: 0.9595 - val_loss: 0.0104 - val_accuracy: 0.9692\n",
      "Epoch 3/15\n",
      "469/469 [==============================] - 141s 302ms/step - loss: 0.0096 - accuracy: 0.9673 - val_loss: 0.0109 - val_accuracy: 0.9677\n",
      "Epoch 4/15\n",
      "469/469 [==============================] - 179s 383ms/step - loss: 0.0081 - accuracy: 0.9726 - val_loss: 0.0088 - val_accuracy: 0.9741\n",
      "Epoch 5/15\n",
      "469/469 [==============================] - 178s 380ms/step - loss: 0.0070 - accuracy: 0.9763 - val_loss: 0.0083 - val_accuracy: 0.9757\n",
      "Epoch 6/15\n",
      "469/469 [==============================] - 175s 372ms/step - loss: 0.0063 - accuracy: 0.9785 - val_loss: 0.0078 - val_accuracy: 0.9770\n",
      "Epoch 7/15\n",
      "469/469 [==============================] - 141s 300ms/step - loss: 0.0056 - accuracy: 0.9810 - val_loss: 0.0078 - val_accuracy: 0.9775\n",
      "Epoch 8/15\n",
      "469/469 [==============================] - 144s 307ms/step - loss: 0.0050 - accuracy: 0.9830 - val_loss: 0.0080 - val_accuracy: 0.9775\n",
      "Epoch 9/15\n",
      "469/469 [==============================] - 147s 313ms/step - loss: 0.0046 - accuracy: 0.9844 - val_loss: 0.0086 - val_accuracy: 0.9770\n",
      "Epoch 10/15\n",
      "469/469 [==============================] - 178s 379ms/step - loss: 0.0043 - accuracy: 0.9856 - val_loss: 0.0075 - val_accuracy: 0.9783\n",
      "Epoch 11/15\n",
      "469/469 [==============================] - 142s 303ms/step - loss: 0.0039 - accuracy: 0.9869 - val_loss: 0.0079 - val_accuracy: 0.9786\n",
      "Epoch 12/15\n",
      "469/469 [==============================] - 999s 2s/step - loss: 0.2659 - accuracy: 0.9863 - val_loss: 0.0080 - val_accuracy: 0.9781\n",
      "Epoch 13/15\n",
      "469/469 [==============================] - 136s 290ms/step - loss: 0.1949 - accuracy: 0.9880 - val_loss: 0.0086 - val_accuracy: 0.9784\n",
      "Epoch 14/15\n",
      "469/469 [==============================] - 134s 287ms/step - loss: 0.0032 - accuracy: 0.9892 - val_loss: 0.0081 - val_accuracy: 0.9786\n",
      "Epoch 15/15\n",
      "469/469 [==============================] - 135s 288ms/step - loss: 0.0030 - accuracy: 0.9893 - val_loss: 0.0078 - val_accuracy: 0.9789\n"
     ]
    }
   ],
   "metadata": {}
  },
  {
   "cell_type": "markdown",
   "source": [
    "Create a figure to show the training and validation losses and accuracies and comment on a possible overfit."
   ],
   "metadata": {}
  },
  {
   "cell_type": "code",
   "execution_count": null,
   "source": [
    "# Write your code\n"
   ],
   "outputs": [
    {
     "output_type": "display_data",
     "data": {
      "text/plain": [
       "<Figure size 432x288 with 1 Axes>"
      ],
      "image/png": "[encoded data removed]"
     },
     "metadata": {
      "needs_background": "light"
     }
    },
    {
     "output_type": "display_data",
     "data": {
      "text/plain": [
       "<Figure size 432x288 with 1 Axes>"
      ],
      "image/png": "[encoded data removed]"
     },
     "metadata": {
      "needs_background": "light"
     }
    }
   ],
   "metadata": {}
  },
  {
   "cell_type": "markdown",
   "source": [
    "Reload your best model"
   ],
   "metadata": {}
  },
  {
   "cell_type": "code",
   "execution_count": null,
   "source": [
    "# Write your code\n"
   ],
   "outputs": [],
   "metadata": {}
  },
  {
   "cell_type": "markdown",
   "source": [
    "Predict the NER sequence"
   ],
   "metadata": {}
  },
  {
   "cell_type": "code",
   "execution_count": null,
   "source": [
    "# Write your code\n",
    "# We evaluate on all the test corpus\n"
   ],
   "outputs": [],
   "metadata": {}
  },
  {
   "cell_type": "markdown",
   "source": [
    "Extract the indices of the highest probabilities from the lists and convert them into NER values. Add them with the `pner` key to the dictionaries in the `test_dict` list."
   ],
   "metadata": {}
  },
  {
   "cell_type": "code",
   "execution_count": null,
   "source": [
    "# write your code\n"
   ],
   "outputs": [],
   "metadata": {}
  },
  {
   "cell_type": "code",
   "execution_count": null,
   "source": [
    "ARCH = '4'\n",
    "outfile = 'test' + ARCH + '.out'"
   ],
   "outputs": [],
   "metadata": {}
  },
  {
   "cell_type": "code",
   "execution_count": null,
   "source": [
    "save(outfile, test_dict, column_names)"
   ],
   "outputs": [],
   "metadata": {}
  },
  {
   "cell_type": "code",
   "execution_count": null,
   "source": [
    "lines = open(outfile, encoding='utf8').read().splitlines()\n",
    "res = conlleval.evaluate(lines)\n",
    "improved_score = res['overall']['chunks']['evals']['f1']\n",
    "improved_score"
   ],
   "outputs": [
    {
     "output_type": "execute_result",
     "data": {
      "text/plain": [
       "0.835102618542109"
      ]
     },
     "metadata": {},
     "execution_count": 80
    }
   ],
   "metadata": {}
  },
  {
   "cell_type": "markdown",
   "source": [
    "You need to reach 82 to pass the assignment."
   ],
   "metadata": {}
  },
  {
   "cell_type": "code",
   "execution_count": null,
   "source": [],
   "outputs": [],
   "metadata": {}
  }
 ],
 "metadata": {
  "kernelspec": {
   "name": "python3",
   "display_name": "Python 3.7.3 64-bit"
  },
  "language_info": {
   "codemirror_mode": {
    "name": "ipython",
    "version": 3
   },
   "file_extension": ".py",
   "mimetype": "text/x-python",
   "name": "python",
   "nbconvert_exporter": "python",
   "pygments_lexer": "ipython3",
   "version": "3.7.3"
  },
  "interpreter": {
   "hash": "e134e05457d34029b6460cd73bbf1ed73f339b5b6d98c95be70b69eba114fe95"
  }
 },
 "nbformat": 4,
 "nbformat_minor": 4
}